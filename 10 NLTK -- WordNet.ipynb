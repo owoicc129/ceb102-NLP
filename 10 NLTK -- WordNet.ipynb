{
 "cells": [
  {
   "cell_type": "markdown",
   "metadata": {},
   "source": [
    "# NLTK -- WordNet\n",
    "1. 是一個由普林斯頓大學建立和維護的`英語字典`。\n",
    "2. 維基百科說明： https://zh.wikipedia.org/wiki/WordNet\n",
    "\n",
    "- 要在 python 中使用 WordNet ，必須使用NLTK (Natural Language Toolkit) \n",
    "- NLTK是最受歡迎的自然語言處理庫。用 Python 語言編寫的，背後有強大的社群支援。\n",
    "- NLTK 可以做詞性標記、語法分析、資料擷取等功能。"
   ]
  },
  {
   "cell_type": "code",
   "execution_count": null,
   "metadata": {
    "scrolled": true
   },
   "outputs": [],
   "source": [
    "!pip install nltk"
   ]
  },
  {
   "cell_type": "code",
   "execution_count": 1,
   "metadata": {},
   "outputs": [
    {
     "name": "stderr",
     "output_type": "stream",
     "text": [
      "[nltk_data] Downloading package wordnet to /home/jovyan/nltk_data...\n",
      "[nltk_data]   Package wordnet is already up-to-date!\n"
     ]
    }
   ],
   "source": [
    "import nltk\n",
    "\n",
    "#下載\n",
    "nltk.download('wordnet')\n",
    "\n",
    "from nltk.corpus import wordnet as wn\n",
    "\n",
    "#確認載入\n",
    "wn.ensure_loaded()"
   ]
  },
  {
   "cell_type": "markdown",
   "metadata": {},
   "source": [
    "### synset (同義詞集合)查詢 "
   ]
  },
  {
   "cell_type": "code",
   "execution_count": 2,
   "metadata": {},
   "outputs": [
    {
     "data": {
      "text/plain": [
       "[Synset('car.n.01'),\n",
       " Synset('car.n.02'),\n",
       " Synset('car.n.03'),\n",
       " Synset('car.n.04'),\n",
       " Synset('cable_car.n.01')]"
      ]
     },
     "execution_count": 2,
     "metadata": {},
     "output_type": "execute_result"
    }
   ],
   "source": [
    "'''\n",
    "這裡輸出了五個不同的synset (同義詞集合)，\n",
    "表示car 有五種不同的意思(不同的同義詞群組)\n",
    "'''\n",
    "#查詢 synset's'\n",
    "wn.synsets('car')"
   ]
  },
  {
   "cell_type": "code",
   "execution_count": 3,
   "metadata": {},
   "outputs": [
    {
     "data": {
      "text/plain": [
       "'a motor vehicle with four wheels; usually propelled by an internal combustion engine'"
      ]
     },
     "execution_count": 3,
     "metadata": {},
     "output_type": "execute_result"
    }
   ],
   "source": [
    "car = wn.synset('car.n.01')\n",
    "car.definition() #解釋"
   ]
  },
  {
   "cell_type": "code",
   "execution_count": 4,
   "metadata": {},
   "outputs": [
    {
     "data": {
      "text/plain": [
       "'a wheeled vehicle adapted to the rails of railroad'"
      ]
     },
     "execution_count": 4,
     "metadata": {},
     "output_type": "execute_result"
    }
   ],
   "source": [
    "car_2 = wn.synset('car.n.02')\n",
    "car_2.definition()"
   ]
  },
  {
   "cell_type": "code",
   "execution_count": 5,
   "metadata": {},
   "outputs": [
    {
     "data": {
      "text/plain": [
       "['car', 'auto', 'automobile', 'machine', 'motorcar']"
      ]
     },
     "execution_count": 5,
     "metadata": {},
     "output_type": "execute_result"
    }
   ],
   "source": [
    "'''\n",
    "利用lemma_name 可以了解 car 這個字，\n",
    "把auto, automobile, machine, motocar 定義為同義詞\n",
    "'''\n",
    "\n",
    "car.lemma_names()"
   ]
  },
  {
   "cell_type": "markdown",
   "metadata": {},
   "source": [
    "### Wrodnet 上位詞 hypernym_paths()\n",
    "越上面，越抽象；越下面，越具體。"
   ]
  },
  {
   "cell_type": "code",
   "execution_count": 6,
   "metadata": {
    "scrolled": true
   },
   "outputs": [
    {
     "data": {
      "text/plain": [
       "[Synset('entity.n.01'),\n",
       " Synset('physical_entity.n.01'),\n",
       " Synset('object.n.01'),\n",
       " Synset('whole.n.02'),\n",
       " Synset('artifact.n.01'),\n",
       " Synset('instrumentality.n.03'),\n",
       " Synset('container.n.01'),\n",
       " Synset('wheeled_vehicle.n.01'),\n",
       " Synset('self-propelled_vehicle.n.01'),\n",
       " Synset('motor_vehicle.n.01'),\n",
       " Synset('car.n.01')]"
      ]
     },
     "execution_count": 6,
     "metadata": {},
     "output_type": "execute_result"
    }
   ],
   "source": [
    "car.hypernym_paths()[0]"
   ]
  },
  {
   "cell_type": "markdown",
   "metadata": {},
   "source": [
    "### Wrodnet 詞意相似度"
   ]
  },
  {
   "cell_type": "code",
   "execution_count": 7,
   "metadata": {},
   "outputs": [
    {
     "name": "stdout",
     "output_type": "stream",
     "text": [
      "car/novel： 0.05555555555555555\n",
      "car/dog： 0.07692307692307693\n",
      "car/motorcycle： 0.3333333333333333\n",
      "car/cat： 0.05555555555555555\n"
     ]
    }
   ],
   "source": [
    "car = wn.synset('car.n.01')\n",
    "novel = wn.synset('novel.n.01')\n",
    "dog = wn.synset('dog.n.01')\n",
    "motorcycle = wn.synset('motorcycle.n.01')\n",
    "cat = wn.synset('cat.n.01')\n",
    "\n",
    "print('car/novel：',car.path_similarity(novel))\n",
    "print('car/dog：',car.path_similarity(dog))\n",
    "print('car/motorcycle：',car.path_similarity(motorcycle))\n",
    "print('car/cat：',car.path_similarity(cat))"
   ]
  },
  {
   "cell_type": "markdown",
   "metadata": {},
   "source": [
    "# NLTK -- word_tokenize 分詞(斷詞)\n",
    "- 「punkt」包含了許多預訓練好的分詞模型\n",
    "- 分詞（Tokenize）就是將句子拆分成一個個具有意義的「小部件」"
   ]
  },
  {
   "cell_type": "code",
   "execution_count": 8,
   "metadata": {},
   "outputs": [
    {
     "name": "stderr",
     "output_type": "stream",
     "text": [
      "[nltk_data] Downloading package punkt to /home/jovyan/nltk_data...\n",
      "[nltk_data]   Package punkt is already up-to-date!\n"
     ]
    },
    {
     "data": {
      "text/plain": [
       "True"
      ]
     },
     "execution_count": 8,
     "metadata": {},
     "output_type": "execute_result"
    }
   ],
   "source": [
    "from nltk.tokenize import word_tokenize\n",
    "\n",
    "nltk.download('punkt')"
   ]
  },
  {
   "cell_type": "code",
   "execution_count": 9,
   "metadata": {},
   "outputs": [
    {
     "data": {
      "text/plain": [
       "['NORAD',\n",
       " 'regularly',\n",
       " 'tracks',\n",
       " 'Santa',\n",
       " \"'s\",\n",
       " 'trip',\n",
       " 'around',\n",
       " 'the',\n",
       " 'world',\n",
       " 'each',\n",
       " 'Christmas',\n",
       " ',',\n",
       " 'but',\n",
       " 'this',\n",
       " 'year',\n",
       " 'is',\n",
       " 'a',\n",
       " 'bit',\n",
       " 'different',\n",
       " '.']"
      ]
     },
     "execution_count": 9,
     "metadata": {},
     "output_type": "execute_result"
    }
   ],
   "source": [
    "string = \"NORAD regularly tracks Santa's trip around the world each Christmas, but this year is a bit different.\"\n",
    "\n",
    "word_tokenize(string)"
   ]
  },
  {
   "cell_type": "markdown",
   "metadata": {},
   "source": [
    "# NLTK -- pos_tag 詞性標註\n",
    "- 詞性說明：https://www.ling.upenn.edu/courses/Fall_2003/ling001/penn_treebank_pos.html"
   ]
  },
  {
   "cell_type": "code",
   "execution_count": 10,
   "metadata": {},
   "outputs": [
    {
     "name": "stderr",
     "output_type": "stream",
     "text": [
      "[nltk_data] Downloading package averaged_perceptron_tagger to\n",
      "[nltk_data]     /home/jovyan/nltk_data...\n",
      "[nltk_data]   Package averaged_perceptron_tagger is already up-to-\n",
      "[nltk_data]       date!\n"
     ]
    },
    {
     "data": {
      "text/plain": [
       "True"
      ]
     },
     "execution_count": 10,
     "metadata": {},
     "output_type": "execute_result"
    }
   ],
   "source": [
    "from nltk import pos_tag\n",
    "\n",
    "nltk.download('averaged_perceptron_tagger')"
   ]
  },
  {
   "cell_type": "code",
   "execution_count": 11,
   "metadata": {},
   "outputs": [
    {
     "data": {
      "text/plain": [
       "[('NORAD', 'NNP'),\n",
       " ('regularly', 'RB'),\n",
       " ('tracks', 'VBZ'),\n",
       " ('Santa', 'NNP'),\n",
       " (\"'s\", 'POS'),\n",
       " ('trip', 'NN'),\n",
       " ('around', 'IN'),\n",
       " ('the', 'DT'),\n",
       " ('world', 'NN'),\n",
       " ('each', 'DT'),\n",
       " ('Christmas', 'NNP'),\n",
       " (',', ','),\n",
       " ('but', 'CC'),\n",
       " ('this', 'DT'),\n",
       " ('year', 'NN'),\n",
       " ('is', 'VBZ'),\n",
       " ('a', 'DT'),\n",
       " ('bit', 'RB'),\n",
       " ('different', 'JJ'),\n",
       " ('.', '.')]"
      ]
     },
     "execution_count": 11,
     "metadata": {},
     "output_type": "execute_result"
    }
   ],
   "source": [
    "pos_tag(word_tokenize(string))"
   ]
  },
  {
   "cell_type": "markdown",
   "metadata": {},
   "source": [
    "# NLTK -- stemming 詞幹\n",
    "Stemming是抽取詞的詞幹或詞根形式（不一定能夠表達完整語義）。"
   ]
  },
  {
   "cell_type": "code",
   "execution_count": 12,
   "metadata": {},
   "outputs": [
    {
     "data": {
      "text/plain": [
       "['norad',\n",
       " 'regularli',\n",
       " 'track',\n",
       " 'santa',\n",
       " \"'s\",\n",
       " 'trip',\n",
       " 'around',\n",
       " 'the',\n",
       " 'world',\n",
       " 'each',\n",
       " 'christma',\n",
       " ',',\n",
       " 'but',\n",
       " 'thi',\n",
       " 'year',\n",
       " 'is',\n",
       " 'a',\n",
       " 'bit',\n",
       " 'differ',\n",
       " '.']"
      ]
     },
     "execution_count": 12,
     "metadata": {},
     "output_type": "execute_result"
    }
   ],
   "source": [
    "from nltk.stem.porter import PorterStemmer\n",
    "\n",
    "porter = PorterStemmer()\n",
    "\n",
    "[porter.stem(word) for word in word_tokenize(string)]"
   ]
  },
  {
   "cell_type": "markdown",
   "metadata": {},
   "source": [
    "# NLTK -- sent_tokenize 分句 (斷句)"
   ]
  },
  {
   "cell_type": "code",
   "execution_count": 13,
   "metadata": {},
   "outputs": [
    {
     "data": {
      "text/plain": [
       "[\"NORAD regularly tracks Santa's trip around the world each Christmas, but this year is a bit different.\",\n",
       " 'On Wednesday (Dec. 23), the Federal Aviation Administration gave Santa and his reindeer-powered sleigh an official commercial space license for launches and landings']"
      ]
     },
     "execution_count": 13,
     "metadata": {},
     "output_type": "execute_result"
    }
   ],
   "source": [
    "from nltk.tokenize import sent_tokenize\n",
    "\n",
    "strs = \"NORAD regularly tracks Santa's trip around the world each Christmas, but this year is a bit different. On Wednesday (Dec. 23), the Federal Aviation Administration gave Santa and his reindeer-powered sleigh an official commercial space license for launches and landings\"\n",
    "\n",
    "sent_tokenize(strs)"
   ]
  },
  {
   "cell_type": "code",
   "execution_count": null,
   "metadata": {},
   "outputs": [],
   "source": []
  }
 ],
 "metadata": {
  "kernelspec": {
   "display_name": "Python 3",
   "language": "python",
   "name": "python3"
  },
  "language_info": {
   "codemirror_mode": {
    "name": "ipython",
    "version": 3
   },
   "file_extension": ".py",
   "mimetype": "text/x-python",
   "name": "python",
   "nbconvert_exporter": "python",
   "pygments_lexer": "ipython3",
   "version": "3.8.6"
  }
 },
 "nbformat": 4,
 "nbformat_minor": 4
}
