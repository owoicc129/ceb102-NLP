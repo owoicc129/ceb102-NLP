{
 "cells": [
  {
   "cell_type": "code",
   "execution_count": 1,
   "metadata": {
    "collapsed": true
   },
   "outputs": [
    {
     "name": "stdout",
     "output_type": "stream",
     "text": [
      "Requirement already satisfied: google-auth in /opt/conda/lib/python3.8/site-packages (1.26.0)\n",
      "Collecting google-auth\n",
      "  Downloading google_auth-1.28.0-py2.py3-none-any.whl (136 kB)\n",
      "\u001b[K     |████████████████████████████████| 136 kB 1.6 MB/s eta 0:00:01\n",
      "\u001b[?25hRequirement already satisfied: six>=1.9.0 in /opt/conda/lib/python3.8/site-packages (from google-auth) (1.15.0)\n",
      "Requirement already satisfied: rsa<5,>=3.1.4 in /opt/conda/lib/python3.8/site-packages (from google-auth) (4.7)\n",
      "Requirement already satisfied: cachetools<5.0,>=2.0.0 in /opt/conda/lib/python3.8/site-packages (from google-auth) (4.2.1)\n",
      "Requirement already satisfied: pyasn1-modules>=0.2.1 in /opt/conda/lib/python3.8/site-packages (from google-auth) (0.2.8)\n",
      "Requirement already satisfied: setuptools>=40.3.0 in /opt/conda/lib/python3.8/site-packages (from google-auth) (49.6.0.post20210108)\n",
      "Requirement already satisfied: pyasn1<0.5.0,>=0.4.6 in /opt/conda/lib/python3.8/site-packages (from pyasn1-modules>=0.2.1->google-auth) (0.4.8)\n",
      "Installing collected packages: google-auth\n",
      "  Attempting uninstall: google-auth\n",
      "    Found existing installation: google-auth 1.26.0\n",
      "    Uninstalling google-auth-1.26.0:\n",
      "      Successfully uninstalled google-auth-1.26.0\n",
      "Successfully installed google-auth-1.28.0\n"
     ]
    }
   ],
   "source": [
    "!pip install --upgrade google-auth "
   ]
  },
  {
   "cell_type": "code",
   "execution_count": 2,
   "metadata": {
    "collapsed": true
   },
   "outputs": [
    {
     "name": "stdout",
     "output_type": "stream",
     "text": [
      "Requirement already satisfied: absl-py in /opt/conda/lib/python3.8/site-packages (0.11.0)\n",
      "Collecting absl-py\n",
      "  Downloading absl_py-0.12.0-py3-none-any.whl (129 kB)\n",
      "\u001b[K     |████████████████████████████████| 129 kB 1.9 MB/s eta 0:00:01\n",
      "\u001b[?25hRequirement already satisfied: six in /opt/conda/lib/python3.8/site-packages (from absl-py) (1.15.0)\n",
      "Installing collected packages: absl-py\n",
      "  Attempting uninstall: absl-py\n",
      "    Found existing installation: absl-py 0.11.0\n",
      "    Uninstalling absl-py-0.11.0:\n",
      "      Successfully uninstalled absl-py-0.11.0\n",
      "Successfully installed absl-py-0.12.0\n"
     ]
    }
   ],
   "source": [
    "!pip install --upgrade absl-py"
   ]
  },
  {
   "cell_type": "code",
   "execution_count": 3,
   "metadata": {
    "collapsed": true
   },
   "outputs": [
    {
     "name": "stdout",
     "output_type": "stream",
     "text": [
      "Requirement already satisfied: protobuf in /opt/conda/lib/python3.8/site-packages (3.14.0)\n",
      "Collecting protobuf\n",
      "  Downloading protobuf-3.15.6-cp38-cp38-manylinux1_x86_64.whl (1.0 MB)\n",
      "\u001b[K     |████████████████████████████████| 1.0 MB 1.9 MB/s eta 0:00:01\n",
      "\u001b[?25hRequirement already satisfied: six>=1.9 in /opt/conda/lib/python3.8/site-packages (from protobuf) (1.15.0)\n",
      "Installing collected packages: protobuf\n",
      "  Attempting uninstall: protobuf\n",
      "    Found existing installation: protobuf 3.14.0\n",
      "    Uninstalling protobuf-3.14.0:\n",
      "      Successfully uninstalled protobuf-3.14.0\n",
      "Successfully installed protobuf-3.15.6\n"
     ]
    }
   ],
   "source": [
    "!pip install --upgrade protobuf"
   ]
  },
  {
   "cell_type": "code",
   "execution_count": 4,
   "metadata": {},
   "outputs": [],
   "source": [
    "!pip install --upgrade -q tensorflow"
   ]
  },
  {
   "cell_type": "code",
   "execution_count": 5,
   "metadata": {},
   "outputs": [],
   "source": [
    "# A dependency of the preprocessing for BERT inputs\n",
    "!pip install -q tensorflow-text"
   ]
  },
  {
   "cell_type": "code",
   "execution_count": 6,
   "metadata": {},
   "outputs": [],
   "source": [
    "!pip install -q tf-models-official"
   ]
  },
  {
   "cell_type": "markdown",
   "metadata": {},
   "source": [
    "------------------------------------"
   ]
  },
  {
   "cell_type": "code",
   "execution_count": 7,
   "metadata": {},
   "outputs": [],
   "source": [
    "import tensorflow as tf\n",
    "import tensorflow_text\n",
    "import tensorflow_hub as hub"
   ]
  },
  {
   "cell_type": "code",
   "execution_count": 13,
   "metadata": {},
   "outputs": [],
   "source": [
    "tokenizer = hub.load(\n",
    "    'https://code.aliyun.com/qhduan/bert_v4/raw/500019068f2c715d4b344c3e2216cef280a7f800/bert_tokenizer_chinese.tar.gz'\n",
    ")"
   ]
  },
  {
   "cell_type": "code",
   "execution_count": 14,
   "metadata": {},
   "outputs": [
    {
     "data": {
      "text/plain": [
       "<tensorflow.python.saved_model.load.Loader._recreate_base_user_object.<locals>._UserObject at 0x7f4cd05669a0>"
      ]
     },
     "execution_count": 14,
     "metadata": {},
     "output_type": "execute_result"
    }
   ],
   "source": [
    "tokenizer"
   ]
  },
  {
   "cell_type": "code",
   "execution_count": 12,
   "metadata": {},
   "outputs": [],
   "source": [
    "albert = hub.load(\n",
    "    'https://code.aliyun.com/qhduan/bert_v4/raw/500019068f2c715d4b344c3e2216cef280a7f800/albert_tiny.tar.gz'\n",
    ")"
   ]
  },
  {
   "cell_type": "code",
   "execution_count": 15,
   "metadata": {},
   "outputs": [
    {
     "name": "stdout",
     "output_type": "stream",
     "text": [
      "WARNING:tensorflow:5 out of the last 5 calls to <function recreate_function.<locals>.restored_function_body at 0x7f4cd05dbaf0> triggered tf.function retracing. Tracing is expensive and the excessive number of tracings could be due to (1) creating @tf.function repeatedly in a loop, (2) passing tensors with different shapes, (3) passing Python objects instead of tensors. For (1), please define your @tf.function outside of the loop. For (2), @tf.function has experimental_relax_shapes=True option that relaxes argument shapes that can avoid unnecessary retracing. For (3), please refer to https://www.tensorflow.org/guide/function#controlling_retracing and https://www.tensorflow.org/api_docs/python/tf/function for  more details.\n"
     ]
    },
    {
     "name": "stderr",
     "output_type": "stream",
     "text": [
      "WARNING:tensorflow:5 out of the last 5 calls to <function recreate_function.<locals>.restored_function_body at 0x7f4cd05dbaf0> triggered tf.function retracing. Tracing is expensive and the excessive number of tracings could be due to (1) creating @tf.function repeatedly in a loop, (2) passing tensors with different shapes, (3) passing Python objects instead of tensors. For (1), please define your @tf.function outside of the loop. For (2), @tf.function has experimental_relax_shapes=True option that relaxes argument shapes that can avoid unnecessary retracing. For (3), please refer to https://www.tensorflow.org/guide/function#controlling_retracing and https://www.tensorflow.org/api_docs/python/tf/function for  more details.\n"
     ]
    },
    {
     "name": "stdout",
     "output_type": "stream",
     "text": [
      "WARNING:tensorflow:6 out of the last 6 calls to <function recreate_function.<locals>.restored_function_body at 0x7f4cd09d5550> triggered tf.function retracing. Tracing is expensive and the excessive number of tracings could be due to (1) creating @tf.function repeatedly in a loop, (2) passing tensors with different shapes, (3) passing Python objects instead of tensors. For (1), please define your @tf.function outside of the loop. For (2), @tf.function has experimental_relax_shapes=True option that relaxes argument shapes that can avoid unnecessary retracing. For (3), please refer to https://www.tensorflow.org/guide/function#controlling_retracing and https://www.tensorflow.org/api_docs/python/tf/function for  more details.\n"
     ]
    },
    {
     "name": "stderr",
     "output_type": "stream",
     "text": [
      "WARNING:tensorflow:6 out of the last 6 calls to <function recreate_function.<locals>.restored_function_body at 0x7f4cd09d5550> triggered tf.function retracing. Tracing is expensive and the excessive number of tracings could be due to (1) creating @tf.function repeatedly in a loop, (2) passing tensors with different shapes, (3) passing Python objects instead of tensors. For (1), please define your @tf.function outside of the loop. For (2), @tf.function has experimental_relax_shapes=True option that relaxes argument shapes that can avoid unnecessary retracing. For (3), please refer to https://www.tensorflow.org/guide/function#controlling_retracing and https://www.tensorflow.org/api_docs/python/tf/function for  more details.\n"
     ]
    }
   ],
   "source": [
    "out = albert(tokenizer(['你好']))"
   ]
  },
  {
   "cell_type": "code",
   "execution_count": 16,
   "metadata": {
    "jupyter": {
     "outputs_hidden": true
    }
   },
   "outputs": [
    {
     "data": {
      "text/plain": [
       "{'pooled_output': <tf.Tensor: shape=(1, 312), dtype=float32, numpy=\n",
       " array([[ 9.97694671e-01, -8.06971908e-01,  5.54048657e-01,\n",
       "          6.82475686e-01, -5.85427761e-01, -4.75501448e-01,\n",
       "         -1.65914804e-01,  3.15567590e-02,  8.45138013e-01,\n",
       "         -8.01114380e-01, -9.99356210e-01, -3.09111893e-01,\n",
       "          9.99294996e-01, -9.22129214e-01,  9.92580652e-01,\n",
       "          9.99752402e-01,  9.58445728e-01,  9.99814987e-01,\n",
       "          9.99970496e-01,  4.10672754e-01, -1.31741986e-01,\n",
       "          9.97253299e-01, -9.60790634e-01, -9.97110248e-01,\n",
       "          5.04275501e-01,  2.64063597e-01, -9.54064131e-01,\n",
       "          9.86726403e-01, -9.99091148e-01,  8.28569770e-01,\n",
       "          9.83543754e-01, -1.33558795e-01,  9.98841763e-01,\n",
       "          9.67339694e-01,  9.98867333e-01,  9.16883111e-01,\n",
       "         -9.90573108e-01, -2.96226870e-02, -9.97980237e-01,\n",
       "          2.11710617e-01,  1.94977745e-01, -5.33369184e-01,\n",
       "          1.97668418e-01, -3.25063467e-01, -3.42272729e-01,\n",
       "          9.95688736e-01,  2.40008652e-01, -7.69853175e-01,\n",
       "          9.96441662e-01, -9.99984384e-01, -5.36280349e-02,\n",
       "          9.99926746e-01,  9.99278724e-01, -9.95987535e-01,\n",
       "          4.09035474e-01, -5.45175314e-01, -3.48776579e-01,\n",
       "         -7.98448734e-03, -8.96576166e-01, -5.06366603e-02,\n",
       "         -2.76396751e-01, -9.99819100e-01,  3.22238922e-01,\n",
       "         -9.99744058e-01, -4.47916389e-01, -9.99933243e-01,\n",
       "         -6.71999529e-02,  3.64328742e-01,  9.92042661e-01,\n",
       "          9.85992730e-01, -8.69182646e-01,  4.31595206e-01,\n",
       "          1.82646900e-01,  3.62535149e-01,  9.66526687e-01,\n",
       "         -9.72714424e-01,  8.77532899e-01,  7.31932372e-02,\n",
       "          6.41759187e-02,  9.88220751e-01, -9.97461319e-01,\n",
       "          9.99327600e-01, -9.68463480e-01,  9.72531557e-01,\n",
       "          2.81892329e-01,  9.99938369e-01, -3.42813551e-01,\n",
       "         -1.40291438e-01,  9.97671902e-01,  9.85705435e-01,\n",
       "         -9.34379816e-01, -9.85176489e-02,  8.37648451e-01,\n",
       "         -3.59337658e-01,  8.51914167e-01,  9.39080238e-01,\n",
       "         -6.73942089e-01,  9.84585106e-01,  9.54886913e-01,\n",
       "         -3.81358564e-01,  8.65145445e-01,  9.95987415e-01,\n",
       "          9.96053517e-01, -8.84239256e-01, -2.54409730e-01,\n",
       "          3.28031331e-01,  9.98607278e-01,  9.60547268e-01,\n",
       "          9.94367421e-01,  8.43539834e-01, -9.99947488e-01,\n",
       "          9.98551846e-01, -2.32158378e-02,  9.82038021e-01,\n",
       "          9.37439799e-01, -9.16896999e-01, -8.99771452e-01,\n",
       "         -2.91083604e-01, -3.57302606e-01, -9.92140710e-01,\n",
       "          6.00757182e-01,  9.04592633e-01, -9.25933421e-01,\n",
       "         -7.90153921e-01, -1.43674329e-01, -7.14880168e-01,\n",
       "          8.95798206e-01,  1.29341170e-01,  9.80928600e-01,\n",
       "         -9.28409919e-02,  9.99962211e-01,  3.74343663e-01,\n",
       "         -2.58976668e-02,  9.99793649e-01,  9.93708611e-01,\n",
       "         -9.99931812e-01, -9.69245255e-01,  8.30315351e-02,\n",
       "         -3.49037170e-01,  8.56835485e-01, -9.99197423e-01,\n",
       "          3.84326071e-01,  9.99789238e-01,  5.93294390e-02,\n",
       "         -9.99998629e-01,  9.94279206e-01, -9.99990225e-01,\n",
       "          7.20890582e-01,  1.67697951e-01,  2.99013168e-01,\n",
       "          1.78533912e-01, -4.13485765e-01, -5.67435734e-02,\n",
       "         -9.99998033e-01, -9.99562025e-01,  2.07285374e-01,\n",
       "          9.99985933e-01,  9.94759798e-01,  5.93535244e-01,\n",
       "          9.98663127e-01, -2.49996796e-01, -5.28304577e-01,\n",
       "          9.93830442e-01,  9.49728012e-01,  1.57987997e-02,\n",
       "         -9.99657094e-01, -9.98355210e-01,  7.97335729e-02,\n",
       "          8.60154569e-01, -3.17229331e-02,  9.78145123e-01,\n",
       "          9.99978662e-01, -3.70182872e-01, -9.79335368e-01,\n",
       "          9.69765544e-01, -9.86911178e-01, -9.98925328e-01,\n",
       "         -1.49412572e-01, -8.86127651e-01, -2.26838902e-01,\n",
       "         -9.99919951e-01, -2.35821277e-01,  9.99588847e-01,\n",
       "         -9.99357224e-01,  2.40691811e-01, -9.92617965e-01,\n",
       "         -4.93666232e-01, -5.08001447e-01, -3.85408849e-01,\n",
       "         -9.90717232e-01, -9.93154764e-01, -8.34163353e-02,\n",
       "         -9.34839547e-01, -9.36027586e-01, -9.99849141e-01,\n",
       "          4.66960400e-01, -9.98374403e-01, -9.99938548e-01,\n",
       "         -9.97205496e-01, -9.99801695e-01,  9.07293975e-01,\n",
       "         -4.70835157e-03, -9.30462122e-01,  3.47426564e-01,\n",
       "          3.09050262e-01, -2.57120967e-01, -6.50306523e-01,\n",
       "          9.81652141e-01,  9.27649081e-01, -9.87010062e-01,\n",
       "         -5.77565916e-02,  9.99994874e-01,  9.89558876e-01,\n",
       "         -4.48116660e-01, -1.02654465e-01, -2.40988918e-02,\n",
       "         -5.74519873e-01, -9.95609522e-01, -9.83265221e-01,\n",
       "          9.99735773e-01, -9.84558344e-01, -1.51720315e-01,\n",
       "          9.94782686e-01,  9.87448454e-01, -8.09359625e-02,\n",
       "         -9.99997675e-01,  9.22406673e-01,  7.34006524e-01,\n",
       "         -2.53188193e-01,  4.22592871e-02,  9.66031969e-01,\n",
       "         -3.80693913e-01,  9.91927862e-01,  9.99984384e-01,\n",
       "          9.81867790e-01, -5.07496715e-01,  9.99889731e-01,\n",
       "         -9.94609535e-01, -9.99980688e-01, -1.78572074e-01,\n",
       "          9.99787509e-01, -8.41455236e-02,  3.20559621e-01,\n",
       "         -5.92823327e-02,  7.61704566e-03,  9.96037126e-01,\n",
       "          9.97987688e-01, -9.99870241e-01, -6.93891523e-03,\n",
       "         -1.15825996e-01, -9.25499260e-01, -7.70361125e-02,\n",
       "          2.04957247e-01,  9.90241051e-01, -9.85810459e-01,\n",
       "          3.31758648e-01,  9.56794173e-02, -9.99589860e-01,\n",
       "          9.48575079e-01,  9.87517893e-01, -2.27448344e-01,\n",
       "          1.98284715e-01,  9.99465823e-01, -3.54706377e-01,\n",
       "          9.61462080e-01, -5.52757263e-01,  9.99995768e-01,\n",
       "         -1.80144440e-02,  9.96102631e-01,  9.92726922e-01,\n",
       "         -7.39756584e-01,  2.07113866e-02,  1.90718144e-01,\n",
       "          3.96095932e-01, -2.95402765e-01,  5.08222505e-02,\n",
       "          9.40885842e-01, -9.66133654e-01,  9.92654860e-01,\n",
       "          9.76026952e-01, -1.73199430e-01, -9.84068274e-01,\n",
       "          9.44785535e-01, -9.97677207e-01, -9.99956191e-01,\n",
       "          9.16001618e-01, -5.97946346e-05, -2.41782591e-01,\n",
       "         -2.68237770e-01,  9.93074358e-01,  1.47697423e-02,\n",
       "          9.99817550e-01,  9.94034708e-01,  7.43985713e-01,\n",
       "          9.97263074e-01,  5.75143509e-02,  9.99561608e-01,\n",
       "          9.96963978e-01,  9.98154759e-01,  9.99137402e-01,\n",
       "          9.38209414e-01,  9.99750137e-01,  9.99781847e-01,\n",
       "          9.98900294e-01,  9.99410868e-01,  3.86122793e-01,\n",
       "          9.48323667e-01,  3.54432583e-01, -5.21713674e-01,\n",
       "         -9.99613941e-01,  9.99625266e-01, -9.98031497e-01]], dtype=float32)>,\n",
       " 'sequence_output': <tf.Tensor: shape=(1, 2, 312), dtype=float32, numpy=\n",
       " array([[[ 7.33716488e-01, -7.20572770e-01,  4.15654361e-01,\n",
       "           5.23569062e-02,  3.98864746e-02,  7.85254389e-02,\n",
       "           7.95625031e-01, -5.55125356e-01, -1.42330492e+00,\n",
       "           1.34107560e-01,  2.49634624e-01, -4.13607776e-01,\n",
       "          -9.09700036e-01, -1.75745296e+00, -1.25018704e+00,\n",
       "           4.09902036e-01, -2.81636506e-01,  1.46802023e-01,\n",
       "           3.74855429e-01, -4.27005082e-01,  7.11122036e-01,\n",
       "          -2.26846695e-01,  5.06152213e-01,  1.00076258e-01,\n",
       "          -3.53587002e-01,  2.95836896e-01, -3.37562978e-01,\n",
       "          -9.72691998e-02, -2.91678309e-01, -1.17791247e+00,\n",
       "           1.06728208e+00,  6.04827642e-01,  2.32241809e-01,\n",
       "           8.05636346e-01,  1.79337084e-01,  1.16546059e+00,\n",
       "          -1.73346043e+00, -1.70590594e-01, -1.84808239e-01,\n",
       "          -6.19936705e-01,  1.57373577e-01,  6.38421178e-01,\n",
       "           5.00104129e-01,  4.56167072e-01,  2.58985937e-01,\n",
       "          -5.30239463e-01,  2.16744208e+00,  9.43759680e-02,\n",
       "           3.06421041e-01, -5.64755738e-01, -8.00807297e-01,\n",
       "          -1.02015749e-01,  1.35829067e+00,  8.03810000e-01,\n",
       "           1.94411170e+00, -3.35305482e-01,  1.01313400e+00,\n",
       "          -1.20946300e+00,  8.64466131e-01,  5.71503997e-01,\n",
       "           9.63975489e-02,  4.73718196e-01, -1.52150226e+00,\n",
       "          -7.41487592e-02,  5.26705384e-01, -4.19329137e-01,\n",
       "          -1.46768284e+00, -5.74067831e-01,  2.47247666e-01,\n",
       "          -6.59155726e-01,  5.89293897e-01,  1.37720180e+00,\n",
       "          -1.81798115e-01,  6.77463531e-01,  1.78005159e-01,\n",
       "           3.06197929e+00,  1.40890503e+00,  4.27713722e-01,\n",
       "           7.43031085e-01, -4.57040787e-01,  3.54061425e-02,\n",
       "          -5.57777584e-01, -5.28084636e-01,  3.65373492e-01,\n",
       "           1.03298217e-01, -6.21653020e-01, -1.03725219e+00,\n",
       "           6.61706924e-02, -9.07656908e-01,  1.78452402e-01,\n",
       "           4.55715239e-01,  1.55368030e-01,  6.73770726e-01,\n",
       "           4.69620675e-01,  1.29365504e+00, -6.54324591e-02,\n",
       "           4.68366802e-01, -7.88209140e-01, -1.61751580e+00,\n",
       "          -5.80758750e-01, -9.70116854e-01, -3.18779558e-01,\n",
       "          -6.41633213e-01,  1.27660930e+00, -3.43548879e-02,\n",
       "           1.87979653e-01,  9.50665712e-01,  1.43079273e-03,\n",
       "          -1.43681657e+00, -1.07526660e-01, -3.15158010e-01,\n",
       "          -3.08797181e-01,  1.60803473e+00,  7.68884420e-02,\n",
       "           6.51014030e-01, -1.16946912e+00,  4.66924250e-01,\n",
       "           5.52679718e-01,  1.89820245e-01, -8.15209746e-02,\n",
       "           4.25388157e-01, -1.00413099e-01, -5.02245903e-01,\n",
       "           4.98040974e-01, -8.92241955e-01,  3.93754393e-01,\n",
       "           8.06738734e-01, -1.27144122e+00, -1.36959791e+00,\n",
       "           5.27061045e-01, -5.09386659e-01, -3.45136374e-02,\n",
       "          -6.77303553e-01,  5.70023596e-01, -1.76939464e+00,\n",
       "          -2.82182574e-01, -3.18495989e-01, -7.94164389e-02,\n",
       "          -5.08446574e-01, -5.61381578e-01, -4.07350242e-01,\n",
       "           2.25851193e-01,  6.79116011e-01,  2.48363584e-01,\n",
       "          -6.74838603e-01,  9.48716760e-01, -2.75956631e-01,\n",
       "          -5.55690348e-01, -1.33615649e+00, -2.61490643e-02,\n",
       "          -2.06075609e-03,  3.05159360e-01,  6.48648739e-01,\n",
       "          -4.97648954e-01, -8.64964366e-01,  1.18101276e-02,\n",
       "           7.02273548e-01, -7.48006642e-01,  1.06158540e-01,\n",
       "          -7.76847124e-01, -1.25571930e+00, -1.57343119e-01,\n",
       "          -4.66653645e-01, -1.08055663e+00,  2.69665658e-01,\n",
       "           2.07701743e-01, -5.21084130e-01,  4.66908067e-01,\n",
       "           7.89609909e-01,  8.21381032e-01,  8.00317883e-01,\n",
       "           3.11063588e-01,  3.79822075e-01,  9.42042351e-01,\n",
       "          -1.43864989e-01,  4.65102136e-01, -8.68104398e-02,\n",
       "           6.12307489e-01,  7.71095395e-01,  3.36870402e-01,\n",
       "           2.38090202e-01,  5.87411672e-02,  6.33718491e-01,\n",
       "          -5.90346217e-01,  6.83155358e-02, -4.90429550e-02,\n",
       "           1.95891023e-01,  3.55087459e-01, -1.46069777e+00,\n",
       "           6.46827996e-01, -6.79254830e-01, -1.73624218e+00,\n",
       "           8.34855810e-02, -2.87126929e-01,  6.68500245e-01,\n",
       "           2.24863410e-01, -1.09789252e+00, -1.63114801e-01,\n",
       "          -1.00701773e+00,  8.14243436e-01, -5.42993098e-02,\n",
       "           1.06108820e+00, -6.27202332e-01, -8.24930727e-01,\n",
       "           1.88623518e-01, -7.23285317e-01, -5.89741468e-01,\n",
       "          -2.05194816e-01,  1.60935167e-02, -7.65561402e-01,\n",
       "          -1.36091292e+00,  5.83978236e-01,  8.15633833e-01,\n",
       "          -1.63743645e-03, -3.63687694e-01, -1.22885779e-01,\n",
       "           7.83519372e-02,  3.82970162e-02, -5.96946329e-02,\n",
       "           7.79704809e-01, -5.41789711e-01, -2.62271702e-01,\n",
       "          -1.68762267e-01, -3.22167695e-01,  7.10111380e-01,\n",
       "           7.04856157e-01, -4.21486169e-01,  7.51219749e-01,\n",
       "          -2.50390917e-01, -2.06995177e+00,  1.11294317e+00,\n",
       "          -8.05570036e-02, -8.93701434e-01, -8.45376551e-01,\n",
       "           4.49951231e-01,  1.48511124e+00,  4.71691191e-01,\n",
       "          -2.59352714e-01, -8.11205328e-01,  5.21550894e-01,\n",
       "           5.40336072e-01, -7.63186038e-01,  1.44054011e-01,\n",
       "           2.95318127e-01, -4.20487761e-01,  4.76786703e-01,\n",
       "          -1.07564382e-01,  3.35779399e-01,  2.58729905e-01,\n",
       "           7.75507167e-02,  5.91494590e-02, -7.14148283e-01,\n",
       "           2.17308715e-01, -5.29174685e-01,  2.13576645e-01,\n",
       "          -5.82432210e-01,  1.12655830e+00, -9.10673812e-02,\n",
       "          -1.99624762e-01, -7.32568681e-01, -3.29883844e-02,\n",
       "          -4.22223389e-01,  6.15178794e-02, -8.65457356e-01,\n",
       "          -8.48720670e-01,  6.26551032e-01,  4.66871887e-01,\n",
       "          -2.26933375e-01,  5.31675160e-01, -7.18686819e-01,\n",
       "           7.29226947e-01,  2.94581771e-01,  7.17277586e-01,\n",
       "           7.47472584e-01, -9.27524626e-01, -9.48512852e-02,\n",
       "           8.16028118e-01, -9.72511947e-01, -4.14338231e-01,\n",
       "           8.24860096e-01, -1.29415005e-01,  2.08055526e-01,\n",
       "           9.41780508e-01, -1.02115023e+00,  4.67508435e-01,\n",
       "          -4.48240906e-01, -6.02980703e-03, -3.78413707e-01,\n",
       "          -1.80143356e-01, -2.73614854e-01, -1.15531635e+00,\n",
       "           5.75145259e-02,  1.16143978e+00,  1.66032702e-01,\n",
       "           3.96486402e-01,  5.28221369e-01, -7.65140653e-01,\n",
       "          -1.42017353e+00,  3.20214242e-01,  7.73066640e-01,\n",
       "          -2.41109133e-02, -9.89595890e-01,  2.94375420e-01,\n",
       "           9.53600824e-01,  5.03647208e-01,  1.09311318e+00,\n",
       "          -3.69825304e-01, -2.64800414e-02,  2.86506861e-02,\n",
       "           1.65220249e+00, -7.46045589e-01, -1.97742194e-01],\n",
       "         [ 5.92860132e-02, -6.74133301e-01,  7.64725685e-01,\n",
       "          -8.38198006e-01, -1.10172522e+00,  6.02918088e-01,\n",
       "          -6.20314181e-01, -4.37462628e-01, -4.01115090e-01,\n",
       "          -5.48614040e-02,  2.65735030e-01, -3.13799709e-01,\n",
       "          -8.75008047e-01, -9.31925297e-01, -2.09108055e-01,\n",
       "          -2.66035885e-01, -8.01069215e-02,  1.74095005e-01,\n",
       "           5.88870943e-01, -1.39467144e+00,  7.45576918e-01,\n",
       "          -6.15225509e-02, -4.93357182e-02, -6.71040416e-02,\n",
       "          -1.75800174e-01, -6.50780261e-01, -1.33776486e-01,\n",
       "          -2.74783194e-01, -8.98287475e-01, -4.84856904e-01,\n",
       "           8.65508080e-01,  1.05656914e-01, -1.57379970e-01,\n",
       "           4.21106815e-01, -6.88995421e-01, -5.98266780e-01,\n",
       "          -8.26569080e-01,  8.79587173e-01,  1.58922188e-02,\n",
       "          -4.26795661e-01,  1.10946548e+00, -1.99408919e-01,\n",
       "          -6.86346412e-01,  8.16313148e-01, -5.61347343e-02,\n",
       "           2.53695816e-01,  1.76163197e+00, -7.95935094e-01,\n",
       "          -9.41719413e-02, -7.76609063e-01, -6.33872986e-01,\n",
       "          -1.34100127e+00,  5.05565047e-01,  1.38035268e-01,\n",
       "           8.82103562e-01, -1.19593239e+00,  3.65863964e-02,\n",
       "          -2.99199045e-01,  3.33870649e-01,  6.78582430e-01,\n",
       "          -1.12987351e+00,  3.70758593e-01,  8.72257292e-01,\n",
       "           5.02803147e-01,  3.58321726e-01,  3.35752964e-01,\n",
       "           1.56189501e-03, -4.57816005e-01,  8.98904622e-01,\n",
       "          -1.06094229e+00,  6.96410537e-01, -1.80405200e-01,\n",
       "          -3.96798939e-01, -5.05992830e-01, -2.09903866e-01,\n",
       "           3.51074147e+00,  5.97622275e-01, -4.77003723e-01,\n",
       "           1.29205894e+00, -9.48786199e-01,  7.08374321e-01,\n",
       "          -3.56562324e-02, -9.81123686e-01, -2.32426834e+00,\n",
       "          -6.73158646e-01, -4.47176814e-01,  1.61447659e-01,\n",
       "          -2.05452353e-01, -1.64020002e+00,  1.15222502e+00,\n",
       "          -1.51580721e-01,  4.49462473e-01,  6.43784046e-01,\n",
       "          -6.81785822e-01,  5.10356426e-01, -4.08887208e-01,\n",
       "           2.45390385e-01,  6.79514557e-03, -3.65916997e-01,\n",
       "           5.43626368e-01, -7.12550879e-01,  1.69204772e-02,\n",
       "           2.17201903e-01,  3.80074143e-01,  3.83154571e-01,\n",
       "          -1.05875283e-01,  9.25015986e-01, -5.86070299e-01,\n",
       "          -2.44535685e+00, -3.45242843e-02,  5.89669287e-01,\n",
       "          -6.19378865e-01,  7.81682432e-01, -1.69792736e+00,\n",
       "           7.11547852e-01, -4.86675322e-01,  1.09294450e+00,\n",
       "           1.75588541e-02, -5.55078685e-02,  7.12020159e-01,\n",
       "           7.35044777e-01, -4.33649838e-01, -4.72158223e-01,\n",
       "           4.30745989e-01, -5.39232373e-01, -5.63924909e-02,\n",
       "           3.94729376e-02, -9.77482319e-01, -8.87633502e-01,\n",
       "           1.14071798e+00, -1.62697136e-01,  6.99951425e-02,\n",
       "          -1.77799687e-01,  1.72969091e+00, -4.90268409e-01,\n",
       "           5.77241778e-01, -1.01516306e+00,  6.40855879e-02,\n",
       "          -1.24174166e+00, -8.67121458e-01, -1.67503774e-01,\n",
       "           2.64080882e-01, -4.19847369e-01,  1.32291245e+00,\n",
       "          -6.14122391e-01, -1.50918102e+00, -3.94189924e-01,\n",
       "          -9.67074260e-02, -1.07495046e+00,  1.77975237e-01,\n",
       "           3.29798043e-01,  6.91313565e-01,  4.33429033e-01,\n",
       "          -1.49812475e-01, -9.67410803e-02,  6.65630162e-01,\n",
       "           4.26921576e-01, -8.03102016e-01,  1.83845207e-01,\n",
       "           4.02288765e-01, -1.32968739e-01,  2.47774318e-01,\n",
       "          -2.21052289e-01, -7.43545741e-02,  2.01017484e-01,\n",
       "           1.89884186e-01, -4.78181541e-01,  6.13277256e-02,\n",
       "          -4.22252834e-01,  9.92333889e-03,  3.65131676e-01,\n",
       "          -2.60530412e-01,  2.12305620e-01,  3.59843373e-01,\n",
       "          -1.02836102e-01, -6.75245821e-01, -2.62576580e-01,\n",
       "           1.11092782e+00, -1.43972844e-01,  9.30915534e-01,\n",
       "           2.55700707e-01,  2.09236667e-01, -1.54162616e-01,\n",
       "           4.18056220e-01,  5.76501489e-02,  3.43557298e-01,\n",
       "           1.28452927e-01,  3.24446678e-01,  3.26183885e-02,\n",
       "           9.43219483e-01,  3.02713990e-01, -3.41875076e-01,\n",
       "           2.05996966e+00, -5.12823939e-01,  4.18398857e-01,\n",
       "           5.93235314e-01, -2.66574025e-02,  1.36748463e-01,\n",
       "          -7.99068749e-01,  2.26289719e-01, -6.09328508e-01,\n",
       "           3.70649785e-01, -1.49129307e+00,  3.69809449e-01,\n",
       "           5.03736317e-01, -2.78407335e-03, -5.86667508e-02,\n",
       "           1.52463436e-01, -8.45098913e-01, -7.67649829e-01,\n",
       "           4.82898951e-02, -3.21249962e-01,  4.45869625e-01,\n",
       "          -4.72207814e-01, -9.10574675e-01,  6.75477907e-02,\n",
       "          -8.94181132e-01, -7.39788115e-01,  1.68702573e-01,\n",
       "          -3.12033482e-02, -7.84941196e-01, -3.34824055e-01,\n",
       "           2.08037242e-01,  6.54723048e-01,  1.14422739e+00,\n",
       "          -1.46609172e-03, -4.90458339e-01,  7.09050298e-01,\n",
       "          -7.34832287e-01, -8.62998366e-01,  1.23678660e+00,\n",
       "          -9.98934031e-01, -2.22856268e-01,  6.61615014e-01,\n",
       "           3.54355991e-01,  9.68032897e-01,  3.90381217e-02,\n",
       "           8.96507278e-02, -4.88288969e-01,  4.52135295e-01,\n",
       "           1.15877867e+00,  1.21675014e+00,  5.45529485e-01,\n",
       "          -1.23350427e-01,  7.64898881e-02, -8.55872184e-02,\n",
       "           1.67597938e+00,  8.04699421e-01,  1.26633763e+00,\n",
       "          -2.78081387e-01,  5.30771494e-01,  2.77496397e-01,\n",
       "           6.96921349e-01, -5.31052887e-01, -7.36217201e-01,\n",
       "          -1.20424099e-01,  4.83030677e-01, -1.16622579e+00,\n",
       "           3.23477149e-01,  7.65790462e-01, -1.27678812e-01,\n",
       "          -1.69772804e-01, -5.53823709e-01, -3.42973650e-01,\n",
       "          -2.42712259e-01,  1.80611148e-01,  7.68082321e-01,\n",
       "          -4.80718672e-01,  7.85222888e-01, -2.79893637e-01,\n",
       "           4.95921254e-01,  9.91912544e-01,  6.44837022e-01,\n",
       "           9.24989045e-01,  1.70890540e-01, -4.07482356e-01,\n",
       "          -7.84605294e-02,  1.35335580e-01, -4.59268570e-01,\n",
       "           8.48100305e-01,  2.12014228e-01,  2.58157074e-01,\n",
       "           7.81659782e-01,  1.62867695e-01,  1.07810569e+00,\n",
       "          -1.11045730e+00,  3.15106839e-01, -9.33404043e-02,\n",
       "           1.16942394e+00,  8.75927210e-01, -2.19208270e-01,\n",
       "           7.68730417e-04, -3.44081968e-01,  5.71631432e-01,\n",
       "           1.82640731e-01, -5.12441754e-01, -3.19064289e-01,\n",
       "          -6.17455244e-01,  7.93916464e-01,  6.64015710e-01,\n",
       "          -5.47058403e-01, -1.08544600e+00, -3.69110614e-01,\n",
       "          -1.33791506e-01, -4.32228327e-01, -6.06219396e-02,\n",
       "          -7.96900392e-01, -5.58070481e-01,  1.05827689e-01,\n",
       "           7.49429882e-01, -1.48981881e+00, -9.13303196e-01]]],\n",
       "       dtype=float32)>}"
      ]
     },
     "execution_count": 16,
     "metadata": {},
     "output_type": "execute_result"
    }
   ],
   "source": [
    "out"
   ]
  },
  {
   "cell_type": "code",
   "execution_count": 17,
   "metadata": {},
   "outputs": [],
   "source": [
    "#assert out['sequence_output'].shape == (1, 2, 312)"
   ]
  },
  {
   "cell_type": "markdown",
   "metadata": {},
   "source": [
    "### BERT 分類模型"
   ]
  },
  {
   "cell_type": "code",
   "execution_count": 18,
   "metadata": {},
   "outputs": [],
   "source": [
    "x = [\n",
    "    ['天氣好'],\n",
    "    ['天氣差'],\n",
    "    ['下雨'],\n",
    "    ['晴天'],\n",
    "    ['雨'],\n",
    "    ['晴'],\n",
    "]\n",
    "y = [\n",
    "    1, 0, 0, 1, 0, 1\n",
    "]"
   ]
  },
  {
   "cell_type": "code",
   "execution_count": 19,
   "metadata": {},
   "outputs": [
    {
     "data": {
      "text/plain": [
       "([['天氣好'], ['天氣差'], ['下雨'], ['晴天'], ['雨'], ['晴']], [1, 0, 0, 1, 0, 1])"
      ]
     },
     "execution_count": 19,
     "metadata": {},
     "output_type": "execute_result"
    }
   ],
   "source": [
    "x,y"
   ]
  },
  {
   "cell_type": "code",
   "execution_count": 20,
   "metadata": {},
   "outputs": [],
   "source": [
    "tx = tf.constant(x)\n",
    "ty = tf.constant(tf.keras.utils.to_categorical(y, 2))"
   ]
  },
  {
   "cell_type": "code",
   "execution_count": 21,
   "metadata": {},
   "outputs": [
    {
     "data": {
      "text/plain": [
       "(<tf.Tensor: shape=(6, 1), dtype=string, numpy=\n",
       " array([[b'\\xe5\\xa4\\xa9\\xe6\\xb0\\xa3\\xe5\\xa5\\xbd'],\n",
       "        [b'\\xe5\\xa4\\xa9\\xe6\\xb0\\xa3\\xe5\\xb7\\xae'],\n",
       "        [b'\\xe4\\xb8\\x8b\\xe9\\x9b\\xa8'],\n",
       "        [b'\\xe6\\x99\\xb4\\xe5\\xa4\\xa9'],\n",
       "        [b'\\xe9\\x9b\\xa8'],\n",
       "        [b'\\xe6\\x99\\xb4']], dtype=object)>,\n",
       " <tf.Tensor: shape=(6, 2), dtype=float32, numpy=\n",
       " array([[0., 1.],\n",
       "        [1., 0.],\n",
       "        [1., 0.],\n",
       "        [0., 1.],\n",
       "        [1., 0.],\n",
       "        [0., 1.]], dtype=float32)>)"
      ]
     },
     "execution_count": 21,
     "metadata": {},
     "output_type": "execute_result"
    }
   ],
   "source": [
    "tx,ty"
   ]
  },
  {
   "cell_type": "code",
   "execution_count": 22,
   "metadata": {},
   "outputs": [
    {
     "name": "stdout",
     "output_type": "stream",
     "text": [
      "WARNING:tensorflow:7 out of the last 7 calls to <function recreate_function.<locals>.restored_function_body at 0x7f4cb7762c10> triggered tf.function retracing. Tracing is expensive and the excessive number of tracings could be due to (1) creating @tf.function repeatedly in a loop, (2) passing tensors with different shapes, (3) passing Python objects instead of tensors. For (1), please define your @tf.function outside of the loop. For (2), @tf.function has experimental_relax_shapes=True option that relaxes argument shapes that can avoid unnecessary retracing. For (3), please refer to https://www.tensorflow.org/guide/function#controlling_retracing and https://www.tensorflow.org/api_docs/python/tf/function for  more details.\n"
     ]
    },
    {
     "name": "stderr",
     "output_type": "stream",
     "text": [
      "WARNING:tensorflow:7 out of the last 7 calls to <function recreate_function.<locals>.restored_function_body at 0x7f4cb7762c10> triggered tf.function retracing. Tracing is expensive and the excessive number of tracings could be due to (1) creating @tf.function repeatedly in a loop, (2) passing tensors with different shapes, (3) passing Python objects instead of tensors. For (1), please define your @tf.function outside of the loop. For (2), @tf.function has experimental_relax_shapes=True option that relaxes argument shapes that can avoid unnecessary retracing. For (3), please refer to https://www.tensorflow.org/guide/function#controlling_retracing and https://www.tensorflow.org/api_docs/python/tf/function for  more details.\n"
     ]
    },
    {
     "name": "stdout",
     "output_type": "stream",
     "text": [
      "WARNING:tensorflow:8 out of the last 8 calls to <function recreate_function.<locals>.restored_function_body at 0x7f4cb77628b0> triggered tf.function retracing. Tracing is expensive and the excessive number of tracings could be due to (1) creating @tf.function repeatedly in a loop, (2) passing tensors with different shapes, (3) passing Python objects instead of tensors. For (1), please define your @tf.function outside of the loop. For (2), @tf.function has experimental_relax_shapes=True option that relaxes argument shapes that can avoid unnecessary retracing. For (3), please refer to https://www.tensorflow.org/guide/function#controlling_retracing and https://www.tensorflow.org/api_docs/python/tf/function for  more details.\n"
     ]
    },
    {
     "name": "stderr",
     "output_type": "stream",
     "text": [
      "WARNING:tensorflow:8 out of the last 8 calls to <function recreate_function.<locals>.restored_function_body at 0x7f4cb77628b0> triggered tf.function retracing. Tracing is expensive and the excessive number of tracings could be due to (1) creating @tf.function repeatedly in a loop, (2) passing tensors with different shapes, (3) passing Python objects instead of tensors. For (1), please define your @tf.function outside of the loop. For (2), @tf.function has experimental_relax_shapes=True option that relaxes argument shapes that can avoid unnecessary retracing. For (3), please refer to https://www.tensorflow.org/guide/function#controlling_retracing and https://www.tensorflow.org/api_docs/python/tf/function for  more details.\n"
     ]
    }
   ],
   "source": [
    "bert = hub.KerasLayer(\n",
    "            'https://code.aliyun.com/qhduan/bert_v4/raw/500019068f2c715d4b344c3e2216cef280a7f800/albert_large.tar.gz', \n",
    "            trainable=True,\n",
    "            output_key='pooled_output'\n",
    "            )"
   ]
  },
  {
   "cell_type": "code",
   "execution_count": 23,
   "metadata": {},
   "outputs": [],
   "source": [
    "inputs = tf.keras.layers.Input(shape=(None,), dtype=tf.string)"
   ]
  },
  {
   "cell_type": "code",
   "execution_count": 24,
   "metadata": {},
   "outputs": [],
   "source": [
    "m = inputs"
   ]
  },
  {
   "cell_type": "code",
   "execution_count": 25,
   "metadata": {},
   "outputs": [],
   "source": [
    "m = bert(inputs)"
   ]
  },
  {
   "cell_type": "code",
   "execution_count": 26,
   "metadata": {},
   "outputs": [],
   "source": [
    "m = tf.keras.layers.Masking()(m)"
   ]
  },
  {
   "cell_type": "code",
   "execution_count": 27,
   "metadata": {},
   "outputs": [],
   "source": [
    "#m = tf.keras.layers.Bidirectional(tf.keras.layers.LSTM(128, ))(m)"
   ]
  },
  {
   "cell_type": "code",
   "execution_count": 28,
   "metadata": {},
   "outputs": [],
   "source": [
    "m = tf.keras.layers.Dense(2, activation='softmax')(m)"
   ]
  },
  {
   "cell_type": "code",
   "execution_count": 29,
   "metadata": {},
   "outputs": [],
   "source": [
    "model = tf.keras.Model(inputs=inputs, outputs=m)"
   ]
  },
  {
   "cell_type": "code",
   "execution_count": 30,
   "metadata": {},
   "outputs": [],
   "source": [
    "model.compile(loss='categorical_crossentropy')"
   ]
  },
  {
   "cell_type": "code",
   "execution_count": 31,
   "metadata": {},
   "outputs": [
    {
     "name": "stdout",
     "output_type": "stream",
     "text": [
      "Epoch 1/10\n",
      "3/3 [==============================] - 23s 799ms/step - loss: 2.7152\n",
      "Epoch 2/10\n",
      "3/3 [==============================] - 2s 724ms/step - loss: 9.1883\n",
      "Epoch 3/10\n",
      "3/3 [==============================] - 2s 770ms/step - loss: 10.8071\n",
      "Epoch 4/10\n",
      "3/3 [==============================] - 2s 764ms/step - loss: 1.0231\n",
      "Epoch 5/10\n",
      "3/3 [==============================] - 2s 755ms/step - loss: 1.6644\n",
      "Epoch 6/10\n",
      "3/3 [==============================] - 2s 796ms/step - loss: 1.0382\n",
      "Epoch 7/10\n",
      "3/3 [==============================] - 2s 817ms/step - loss: 2.4518\n",
      "Epoch 8/10\n",
      "3/3 [==============================] - 2s 759ms/step - loss: 1.6124\n",
      "Epoch 9/10\n",
      "3/3 [==============================] - 2s 795ms/step - loss: 1.4322\n",
      "Epoch 10/10\n",
      "3/3 [==============================] - 2s 802ms/step - loss: 0.6039\n"
     ]
    },
    {
     "data": {
      "text/plain": [
       "<tensorflow.python.keras.callbacks.History at 0x7f4cada470a0>"
      ]
     },
     "execution_count": 31,
     "metadata": {},
     "output_type": "execute_result"
    }
   ],
   "source": [
    "model.fit(tx, ty, epochs=10, batch_size=2)"
   ]
  },
  {
   "cell_type": "code",
   "execution_count": 32,
   "metadata": {},
   "outputs": [],
   "source": [
    "logits = model.predict(tx)"
   ]
  },
  {
   "cell_type": "code",
   "execution_count": 33,
   "metadata": {},
   "outputs": [],
   "source": [
    "pred = logits.argmax(-1).tolist()"
   ]
  },
  {
   "cell_type": "code",
   "execution_count": 34,
   "metadata": {},
   "outputs": [
    {
     "data": {
      "text/plain": [
       "([0, 0, 0, 0, 0, 0], [1, 0, 0, 1, 0, 1])"
      ]
     },
     "execution_count": 34,
     "metadata": {},
     "output_type": "execute_result"
    }
   ],
   "source": [
    "pred, y"
   ]
  }
 ],
 "metadata": {
  "kernelspec": {
   "display_name": "Python 3",
   "language": "python",
   "name": "python3"
  },
  "language_info": {
   "codemirror_mode": {
    "name": "ipython",
    "version": 3
   },
   "file_extension": ".py",
   "mimetype": "text/x-python",
   "name": "python",
   "nbconvert_exporter": "python",
   "pygments_lexer": "ipython3",
   "version": "3.8.6"
  }
 },
 "nbformat": 4,
 "nbformat_minor": 4
}
