{
 "cells": [
  {
   "cell_type": "markdown",
   "metadata": {},
   "source": [
    "# N-gram \n",
    "\n",
    "- N-gram模型是一種語言機率模型，它的輸入是一句話（單詞的順序序列），輸出是一個聯合機率（這句話出現的機率\n",
    "\n",
    "- N-gram是機器學習中NLP處理中的一個較為重要的語言模型，常用來做句子相似度比較，模糊查詢，以及句子合理性，句子矯正等\n",
    "\n",
    "#### 基於聯想的概念，有兩個特點：\n",
    "1. 一個詞的出現是依賴於其他若干詞\n",
    "2. 得到的信息越多，預測詞出現的機率越準確。"
   ]
  },
  {
   "cell_type": "code",
   "execution_count": 16,
   "metadata": {},
   "outputs": [
    {
     "data": {
      "text/plain": [
       "['I', 'am', 'Justin.', 'Justin', 'I', 'am.', 'I', 'like', 'eat', 'KFC.']"
      ]
     },
     "execution_count": 16,
     "metadata": {},
     "output_type": "execute_result"
    }
   ],
   "source": [
    "str = \"I am Justin. Justin I am. I like eat KFC.\"\n",
    "tokens = str.split(\" \")\n",
    "tokens"
   ]
  },
  {
   "cell_type": "markdown",
   "metadata": {},
   "source": [
    "### N=1 gram\n",
    "- 1個token一個單位"
   ]
  },
  {
   "cell_type": "code",
   "execution_count": 17,
   "metadata": {},
   "outputs": [
    {
     "data": {
      "text/plain": [
       "['I', 'am', 'Justin.', 'Justin', 'I', 'am.', 'I', 'like', 'eat']"
      ]
     },
     "execution_count": 17,
     "metadata": {},
     "output_type": "execute_result"
    }
   ],
   "source": [
    "[ (tokens[i]) for i in range(0, len(tokens)-1)  ]"
   ]
  },
  {
   "cell_type": "markdown",
   "metadata": {},
   "source": [
    "### N=2 gram \n",
    "- 2個token一個單位 ："
   ]
  },
  {
   "cell_type": "code",
   "execution_count": 18,
   "metadata": {
    "scrolled": true
   },
   "outputs": [
    {
     "data": {
      "text/plain": [
       "[('I', 'am'),\n",
       " ('am', 'Justin.'),\n",
       " ('Justin.', 'Justin'),\n",
       " ('Justin', 'I'),\n",
       " ('I', 'am.'),\n",
       " ('am.', 'I'),\n",
       " ('I', 'like'),\n",
       " ('like', 'eat'),\n",
       " ('eat', 'KFC.')]"
      ]
     },
     "execution_count": 18,
     "metadata": {},
     "output_type": "execute_result"
    }
   ],
   "source": [
    "[(tokens[i], tokens[i+1]) for i in range( 0, len(tokens)-1 )]"
   ]
  },
  {
   "cell_type": "code",
   "execution_count": null,
   "metadata": {},
   "outputs": [],
   "source": []
  }
 ],
 "metadata": {
  "kernelspec": {
   "display_name": "Python 3",
   "language": "python",
   "name": "python3"
  },
  "language_info": {
   "codemirror_mode": {
    "name": "ipython",
    "version": 3
   },
   "file_extension": ".py",
   "mimetype": "text/x-python",
   "name": "python",
   "nbconvert_exporter": "python",
   "pygments_lexer": "ipython3",
   "version": "3.8.6"
  }
 },
 "nbformat": 4,
 "nbformat_minor": 4
}
