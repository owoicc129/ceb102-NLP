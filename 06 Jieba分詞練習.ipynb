{
 "cells": [
  {
   "cell_type": "markdown",
   "metadata": {},
   "source": [
    "### 安裝 jieba 套件"
   ]
  },
  {
   "cell_type": "code",
   "execution_count": null,
   "metadata": {},
   "outputs": [],
   "source": [
    "!pip install jieba"
   ]
  },
  {
   "cell_type": "markdown",
   "metadata": {},
   "source": [
    "### 建立新目錄，用來存放等等下載的辭典檔案"
   ]
  },
  {
   "cell_type": "code",
   "execution_count": null,
   "metadata": {},
   "outputs": [],
   "source": [
    "!mkdir jieba_data"
   ]
  },
  {
   "cell_type": "markdown",
   "metadata": {},
   "source": [
    "### 下載對繁體分詞更好的辭典檔 (jieba原廠提供)\n",
    "`dict.txt.big`"
   ]
  },
  {
   "cell_type": "code",
   "execution_count": null,
   "metadata": {},
   "outputs": [],
   "source": [
    "!wget https://github.com/fxsjy/jieba/raw/master/extra_dict/dict.txt.big -O jieba_data/dict.txt.big"
   ]
  },
  {
   "cell_type": "markdown",
   "metadata": {},
   "source": [
    "-----------------------------------------------"
   ]
  },
  {
   "cell_type": "markdown",
   "metadata": {},
   "source": [
    "### 檢查 Jieba 版本"
   ]
  },
  {
   "cell_type": "code",
   "execution_count": 1,
   "metadata": {},
   "outputs": [
    {
     "data": {
      "text/plain": [
       "'0.42.1'"
      ]
     },
     "execution_count": 1,
     "metadata": {},
     "output_type": "execute_result"
    }
   ],
   "source": [
    "import jieba\n",
    "jieba.__version__"
   ]
  },
  {
   "cell_type": "markdown",
   "metadata": {},
   "source": [
    "### 指定辭典檔"
   ]
  },
  {
   "cell_type": "code",
   "execution_count": 2,
   "metadata": {},
   "outputs": [],
   "source": [
    "import jieba\n",
    "jieba.set_dictionary('jieba_data/dict.txt.big')"
   ]
  },
  {
   "cell_type": "code",
   "execution_count": 3,
   "metadata": {
    "scrolled": true
   },
   "outputs": [
    {
     "name": "stdout",
     "output_type": "stream",
     "text": [
      "1号店 3 n\r\n",
      "1號店 3 n\r\n",
      "4S店 3 n\r\n",
      "4s店 3 n\r\n",
      "AA制 3 n\r\n",
      "AB型 3 n\r\n",
      "AT&T 3 nz\r\n",
      "A型 3 n\r\n",
      "A座 3 n\r\n",
      "A股 3 n\r\n"
     ]
    }
   ],
   "source": [
    "#看辭典 前10行內容 (詞項.詞頻.詞性)\n",
    "!head -10 jieba_data/dict.txt.big"
   ]
  },
  {
   "cell_type": "markdown",
   "metadata": {},
   "source": [
    "# jieba分詞"
   ]
  },
  {
   "cell_type": "code",
   "execution_count": 4,
   "metadata": {},
   "outputs": [],
   "source": [
    "#查詢參數\n",
    "?jieba.cut  "
   ]
  },
  {
   "cell_type": "markdown",
   "metadata": {},
   "source": [
    "### 精確模式分詞 `(cut_all=False)` 預設\n",
    "試圖將句子最精確地切開，適合文本分析"
   ]
  },
  {
   "cell_type": "code",
   "execution_count": 5,
   "metadata": {},
   "outputs": [
    {
     "name": "stderr",
     "output_type": "stream",
     "text": [
      "Building prefix dict from /home/jovyan/work/06 Text_wordcloud/jieba_data/dict.txt.big ...\n",
      "Loading model from cache /tmp/jieba.ua7fe3492a0c9aeb6416c4783f2c60a50.cache\n",
      "Loading model cost 2.208 seconds.\n",
      "Prefix dict has been built successfully.\n"
     ]
    },
    {
     "name": "stdout",
     "output_type": "stream",
     "text": [
      "今天天氣 / 真 / 好\n"
     ]
    }
   ],
   "source": [
    "# 目標： 斷成 今天/天氣/真好\n",
    "\n",
    "text_str = '今天天氣真好'\n",
    "\n",
    "seg_result = jieba.cut(text_str, cut_all=False) \n",
    "\n",
    "print(' / '.join(list(seg_result))) #斷詞結果要放進list才看的到"
   ]
  },
  {
   "cell_type": "markdown",
   "metadata": {},
   "source": [
    "### 全模式分詞 `(cut_all=True)`\n",
    "把句子中所有的可以成詞的詞語都掃描出來，速度非常快，但是不能解決歧義"
   ]
  },
  {
   "cell_type": "code",
   "execution_count": 6,
   "metadata": {},
   "outputs": [
    {
     "name": "stdout",
     "output_type": "stream",
     "text": [
      "今天 / 今天天氣 / 天天 / 天氣 / 真好\n"
     ]
    }
   ],
   "source": [
    "seg_result = jieba.cut(text_str, cut_all=True)\n",
    "\n",
    "print(' / '.join(list(seg_result)))"
   ]
  },
  {
   "cell_type": "markdown",
   "metadata": {},
   "source": [
    "### 搜尋引擎模式分詞\n",
    "在精確模式的基礎上，對長詞再次切分，提高召回率，適合用於搜尋引擎分詞"
   ]
  },
  {
   "cell_type": "code",
   "execution_count": 7,
   "metadata": {},
   "outputs": [],
   "source": [
    "#查詢參數\n",
    "?jieba.cut_for_search "
   ]
  },
  {
   "cell_type": "code",
   "execution_count": 8,
   "metadata": {},
   "outputs": [
    {
     "name": "stdout",
     "output_type": "stream",
     "text": [
      "今天 / 天天 / 天氣 / 今天天氣 / 真 / 好\n"
     ]
    }
   ],
   "source": [
    "seg_result = jieba.cut_for_search(text_str, HMM=True)\n",
    "\n",
    "print(' / '.join(list(seg_result)))"
   ]
  },
  {
   "cell_type": "code",
   "execution_count": 9,
   "metadata": {},
   "outputs": [
    {
     "name": "stdout",
     "output_type": "stream",
     "text": [
      "今天 / 天天 / 天氣 / 今天天氣 / 真 / 好\n"
     ]
    }
   ],
   "source": [
    "seg_result = jieba.cut_for_search(text_str, HMM=False)\n",
    "print(' / '.join(list(seg_result)))"
   ]
  },
  {
   "cell_type": "markdown",
   "metadata": {},
   "source": [
    "### Paddle 模式分詞 (use_paddle=True)\n",
    "`常常會讓kernel die`\n",
    "- 利用PaddlePaddle分度學習框架，訓練序列標註網路模型分詞。同時支援雌性標註。\n",
    "- Paddle模式使用時須安裝paddlepaddle-tiny( pip install paddlepaddle-tiny==1.6.1 )，使用Paddle模式時請注意\n",
    "- Jieba必須是 v0.40及以上版本，升級 Jieba ( pip install jieba --upgrade )\n",
    "- `目前似乎只支援python3.7版本`"
   ]
  },
  {
   "cell_type": "code",
   "execution_count": null,
   "metadata": {},
   "outputs": [],
   "source": [
    "!pip install paddlepaddle-tiny==1.6.1"
   ]
  },
  {
   "cell_type": "code",
   "execution_count": null,
   "metadata": {
    "scrolled": true
   },
   "outputs": [],
   "source": [
    "jieba.enable_paddle() #啟動\n",
    "seg_result = jieba.cut(text_str, use_paddle=True)\n",
    "print(' / '.join(list(seg_result)))"
   ]
  },
  {
   "cell_type": "markdown",
   "metadata": {},
   "source": [
    "#### Paddle 詞性標註\n",
    "- 詞性說明: https://gist.github.com/luw2007/6016931"
   ]
  },
  {
   "cell_type": "code",
   "execution_count": null,
   "metadata": {},
   "outputs": [],
   "source": [
    "import jieba.posseg as pseg\n",
    "jieba.enable_paddle()\n",
    "seg_result = pseg.lcut(text_str, use_paddle=True)\n",
    "for w, p in seg_result:\n",
    "    print(\"%s, %s\"%(w, p))"
   ]
  },
  {
   "cell_type": "markdown",
   "metadata": {},
   "source": [
    "-----------------------------------------"
   ]
  },
  {
   "cell_type": "markdown",
   "metadata": {},
   "source": [
    "# 自定義詞庫 (把哪些字設為一個詞，不被切開)"
   ]
  },
  {
   "cell_type": "code",
   "execution_count": 10,
   "metadata": {},
   "outputs": [
    {
     "name": "stdout",
     "output_type": "stream",
     "text": [
      "是在哈囉"
     ]
    }
   ],
   "source": [
    "# 已先自創文字檔 並將自訂義詞寫入\n",
    "!cat jieba_data/mydict.txt"
   ]
  },
  {
   "cell_type": "code",
   "execution_count": 13,
   "metadata": {},
   "outputs": [
    {
     "name": "stdout",
     "output_type": "stream",
     "text": [
      "是在哈囉 / 嗎 / ?\n"
     ]
    }
   ],
   "source": [
    "#載入詞庫\n",
    "jieba.load_userdict('jieba_data/mydict.txt')\n",
    "\n",
    "text_str_2 = '是在哈囉嗎?'\n",
    "\n",
    "# 用.lcut 可切開後直接產生list\n",
    "seg_result = jieba.lcut(text_str_2)\n",
    "\n",
    "print(' / '.join(seg_result))"
   ]
  },
  {
   "cell_type": "markdown",
   "metadata": {},
   "source": [
    "# 停止字 (過濾掉不想要的詞)\n",
    "文章裡如果有這些詞，就不讓它出現"
   ]
  },
  {
   "cell_type": "code",
   "execution_count": null,
   "metadata": {},
   "outputs": [],
   "source": [
    "#下載 示範辭典檔案 stop_words.txt\n",
    "!wget https://raw.githubusercontent.com/fxsjy/jieba/master/extra_dict/stop_words.txt -O jieba_data/stop_words.txt"
   ]
  },
  {
   "cell_type": "code",
   "execution_count": 20,
   "metadata": {
    "scrolled": false
   },
   "outputs": [
    {
     "name": "stdout",
     "output_type": "stream",
     "text": [
      "['the', 'of', 'is', 'and', 'to', 'in', 'that', 'we', 'for', 'an', 'are', 'by', 'be', 'as', 'on', 'with', 'can', 'if', 'from', 'which', 'you', 'it', 'this', 'then', 'at', 'have', 'all', 'not', 'one', 'has', 'or', 'that', '的', '了', '和', '是', '就', '都', '而', '及', '與', '著', '或', '一個', '沒有', '我們', '你們', '妳們', '他們', '她們', '是否']\n"
     ]
    }
   ],
   "source": [
    "# 開檔後一次讀一行，並加入list\n",
    "\n",
    "stop_words_list = []\n",
    "\n",
    "with open(file='jieba_data/stop_words.txt',mode='r', encoding=\"UTF-8\") as file:\n",
    "    for line in file:\n",
    "        line = line.strip() #把空白過濾掉\n",
    "        stop_words_list.append(line)\n",
    "        \n",
    "print(stop_words_list)"
   ]
  },
  {
   "cell_type": "code",
   "execution_count": 16,
   "metadata": {},
   "outputs": [
    {
     "name": "stdout",
     "output_type": "stream",
     "text": [
      "<class 'list'>\n",
      "['the', 'of', 'is', 'and', 'to', 'in', 'that', 'we', 'for', 'an', 'are', 'by', 'be', 'as', 'on', 'with', 'can', 'if', 'from', 'which', 'you', 'it', 'this', 'then', 'at', 'have', 'all', 'not', 'one', 'has', 'or', 'that', '的', '了', '和', '是', '就', '都', '而', '及', '與', '著', '或', '一個', '沒有', '我們', '你們', '妳們', '他們', '她們', '是否']\n"
     ]
    }
   ],
   "source": [
    "# 開檔後一次讀完，再進行切割\n",
    "\n",
    "with open(file='jieba_data/stop_words.txt',mode='r', encoding=\"UTF-8\") as file:\n",
    "    \n",
    "    #依照換行字元 \\n 進行切割，切完為 list\n",
    "    stop_words = file.read().split('\\n')\n",
    "    \n",
    "    print(type(stop_words))\n",
    "    print(stop_words)"
   ]
  },
  {
   "cell_type": "code",
   "execution_count": 18,
   "metadata": {},
   "outputs": [
    {
     "name": "stdout",
     "output_type": "stream",
     "text": [
      "['我', '是', '一位', '小學生', '，', '從小', '學習', '鋼琴', '，', '希望', '成為', 'youtuber']\n"
     ]
    },
    {
     "data": {
      "text/plain": [
       "['我', '一位', '小學生', '，', '從小', '學習', '鋼琴', '，', '希望', '成為', 'youtuber']"
      ]
     },
     "execution_count": 18,
     "metadata": {},
     "output_type": "execute_result"
    }
   ],
   "source": [
    "text_str_3 = '我是一位小學生，從小學習鋼琴，希望成為youtuber'\n",
    "\n",
    "seg_result = jieba.lcut(text_str_3)\n",
    "print(seg_result)\n",
    "\n",
    "seg_result_stopword = []\n",
    "for term in seg_result:\n",
    "    if term not in stop_words:\n",
    "        seg_result_stopword.append(term)\n",
    "        \n",
    "seg_result_stopword"
   ]
  },
  {
   "cell_type": "markdown",
   "metadata": {},
   "source": [
    "## 其他"
   ]
  },
  {
   "cell_type": "code",
   "execution_count": 19,
   "metadata": {},
   "outputs": [
    {
     "name": "stdout",
     "output_type": "stream",
     "text": [
      "dict.txt\n"
     ]
    }
   ],
   "source": [
    "print(jieba.DEFAULT_DICT_NAME)\n",
    "# check jieba/jieba/__init__.py"
   ]
  },
  {
   "cell_type": "code",
   "execution_count": null,
   "metadata": {},
   "outputs": [],
   "source": []
  }
 ],
 "metadata": {
  "kernelspec": {
   "display_name": "Python 3",
   "language": "python",
   "name": "python3"
  },
  "language_info": {
   "codemirror_mode": {
    "name": "ipython",
    "version": 3
   },
   "file_extension": ".py",
   "mimetype": "text/x-python",
   "name": "python",
   "nbconvert_exporter": "python",
   "pygments_lexer": "ipython3",
   "version": "3.8.6"
  }
 },
 "nbformat": 4,
 "nbformat_minor": 4
}
