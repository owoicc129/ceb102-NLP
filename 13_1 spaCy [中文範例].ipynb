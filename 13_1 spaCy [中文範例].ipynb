{
 "cells": [
  {
   "cell_type": "markdown",
   "metadata": {},
   "source": [
    "# 自然語言處理套件 SpaCy\n",
    "SpaCy 被廣泛應用在詞性標記, 文章分類, 語法為基礎之斷句, 相依關係分析, 相似度與詞彙嵌入 (word embedded) 計算等應用, 而且支援深度學習, 透過其 Thinc 函式庫可連接 TensorFlow 與 PyTorch 等框架所訓練出來的多語言統計模型, 是研究語言學與機器學習的上好工具"
   ]
  },
  {
   "cell_type": "code",
   "execution_count": null,
   "metadata": {
    "jupyter": {
     "outputs_hidden": true
    }
   },
   "outputs": [],
   "source": [
    "!pip install -U spacy"
   ]
  },
  {
   "cell_type": "code",
   "execution_count": null,
   "metadata": {
    "jupyter": {
     "outputs_hidden": true
    }
   },
   "outputs": [],
   "source": [
    "!pip install -U spacy-lookups-data"
   ]
  },
  {
   "cell_type": "code",
   "execution_count": null,
   "metadata": {
    "jupyter": {
     "outputs_hidden": true
    }
   },
   "outputs": [],
   "source": [
    "# 安裝中文模型\n",
    "!python -m spacy download zh_core_web_sm"
   ]
  },
  {
   "cell_type": "markdown",
   "metadata": {},
   "source": [
    "-------------------------------------------\n",
    "# Part-of-speech tagging 詞性標記"
   ]
  },
  {
   "cell_type": "code",
   "execution_count": 1,
   "metadata": {},
   "outputs": [
    {
     "name": "stdout",
     "output_type": "stream",
     "text": [
      "三  NUM CD dep x True True\n",
      "倍  NUM M mark:clf x True False\n",
      "券還  VERB VV ROOT xx True False\n",
      "可以  VERB VV aux:modal xx True True\n",
      "買  VERB VV ccomp x True False\n",
      "公益  NOUN NN compound:nn xx True False\n",
      "彩券  NOUN NN conj xx True False\n",
      "及  CCONJ CC cc x True True\n",
      "買黃金  NOUN NN dobj xxx True False\n",
      "，  PUNCT PU punct ， False True\n",
      "業者  VERB VV conj xx True False\n",
      "也  ADV AD advmod x True True\n",
      "會  ADV AD advmod x True False\n",
      "推出  VERB VV conj xx True False\n",
      "相關  VERB VV acl xx True False\n",
      "的  PART DEC mark x True True\n",
      "優惠  NOUN NN compound:nn xx True False\n",
      "活動  NOUN NN dobj xx True False\n",
      "。  PUNCT PU punct 。 False True\n"
     ]
    }
   ],
   "source": [
    "import spacy\n",
    "import zh_core_web_sm\n",
    "\n",
    "#my_text = \"今年夏天礁溪老爺酒店設計了一系列精彩活動，除了大獲好評的夏日探險季闖關活動，為了吸引民眾振興旅遊市場，更攜手MINI打造夏日暢遊主題房，不但享房型升等「洋式蘭陽平原景觀套房」，入住可免費試駕MINI CooperCountryman運動休旅，預訂平日當季尊榮三天兩夜專案，加購第三晚只需紙本振興三倍券3000元就能再住一晚。\"\n",
    "my_text = \"三倍券還可以買公益彩券及買黃金，業者也會推出相關的優惠活動。\"\n",
    "\n",
    "\n",
    "nlp = zh_core_web_sm.load()\n",
    "# nlp = spacy.load(\"zh_core_web_sm\")\n",
    "\n",
    "doc = nlp(my_text)\n",
    "\n",
    "#詞性標註\n",
    "for token in doc:\n",
    "            # 分詞        詞性         \n",
    "    print(token.text, token.lemma_, token.pos_, token.tag_, token.dep_, token.shape_, token.is_alpha, token.is_stop)"
   ]
  },
  {
   "cell_type": "markdown",
   "metadata": {},
   "source": [
    "# 視覺化句子中文字的相依"
   ]
  },
  {
   "cell_type": "code",
   "execution_count": 2,
   "metadata": {},
   "outputs": [
    {
     "data": {
      "text/html": [
       "<span class=\"tex2jax_ignore\"><svg xmlns=\"http://www.w3.org/2000/svg\" xmlns:xlink=\"http://www.w3.org/1999/xlink\" xml:lang=\"zh\" id=\"e77a9d6487f1459d88b32fab0d541061-0\" class=\"displacy\" width=\"3025\" height=\"662.0\" direction=\"ltr\" style=\"max-width: none; height: 662.0px; color: #000000; background: #ffffff; font-family: Arial; direction: ltr\">\n",
       "<text class=\"displacy-token\" fill=\"currentColor\" text-anchor=\"middle\" y=\"572.0\">\n",
       "    <tspan class=\"displacy-word\" fill=\"currentColor\" x=\"50\">三</tspan>\n",
       "    <tspan class=\"displacy-tag\" dy=\"2em\" fill=\"currentColor\" x=\"50\">NUM</tspan>\n",
       "</text>\n",
       "\n",
       "<text class=\"displacy-token\" fill=\"currentColor\" text-anchor=\"middle\" y=\"572.0\">\n",
       "    <tspan class=\"displacy-word\" fill=\"currentColor\" x=\"225\">倍</tspan>\n",
       "    <tspan class=\"displacy-tag\" dy=\"2em\" fill=\"currentColor\" x=\"225\">NUM</tspan>\n",
       "</text>\n",
       "\n",
       "<text class=\"displacy-token\" fill=\"currentColor\" text-anchor=\"middle\" y=\"572.0\">\n",
       "    <tspan class=\"displacy-word\" fill=\"currentColor\" x=\"400\">券還</tspan>\n",
       "    <tspan class=\"displacy-tag\" dy=\"2em\" fill=\"currentColor\" x=\"400\">VERB</tspan>\n",
       "</text>\n",
       "\n",
       "<text class=\"displacy-token\" fill=\"currentColor\" text-anchor=\"middle\" y=\"572.0\">\n",
       "    <tspan class=\"displacy-word\" fill=\"currentColor\" x=\"575\">可以</tspan>\n",
       "    <tspan class=\"displacy-tag\" dy=\"2em\" fill=\"currentColor\" x=\"575\">VERB</tspan>\n",
       "</text>\n",
       "\n",
       "<text class=\"displacy-token\" fill=\"currentColor\" text-anchor=\"middle\" y=\"572.0\">\n",
       "    <tspan class=\"displacy-word\" fill=\"currentColor\" x=\"750\">買</tspan>\n",
       "    <tspan class=\"displacy-tag\" dy=\"2em\" fill=\"currentColor\" x=\"750\">VERB</tspan>\n",
       "</text>\n",
       "\n",
       "<text class=\"displacy-token\" fill=\"currentColor\" text-anchor=\"middle\" y=\"572.0\">\n",
       "    <tspan class=\"displacy-word\" fill=\"currentColor\" x=\"925\">公益</tspan>\n",
       "    <tspan class=\"displacy-tag\" dy=\"2em\" fill=\"currentColor\" x=\"925\">NOUN</tspan>\n",
       "</text>\n",
       "\n",
       "<text class=\"displacy-token\" fill=\"currentColor\" text-anchor=\"middle\" y=\"572.0\">\n",
       "    <tspan class=\"displacy-word\" fill=\"currentColor\" x=\"1100\">彩券</tspan>\n",
       "    <tspan class=\"displacy-tag\" dy=\"2em\" fill=\"currentColor\" x=\"1100\">NOUN</tspan>\n",
       "</text>\n",
       "\n",
       "<text class=\"displacy-token\" fill=\"currentColor\" text-anchor=\"middle\" y=\"572.0\">\n",
       "    <tspan class=\"displacy-word\" fill=\"currentColor\" x=\"1275\">及</tspan>\n",
       "    <tspan class=\"displacy-tag\" dy=\"2em\" fill=\"currentColor\" x=\"1275\">CCONJ</tspan>\n",
       "</text>\n",
       "\n",
       "<text class=\"displacy-token\" fill=\"currentColor\" text-anchor=\"middle\" y=\"572.0\">\n",
       "    <tspan class=\"displacy-word\" fill=\"currentColor\" x=\"1450\">買黃金，</tspan>\n",
       "    <tspan class=\"displacy-tag\" dy=\"2em\" fill=\"currentColor\" x=\"1450\">NOUN</tspan>\n",
       "</text>\n",
       "\n",
       "<text class=\"displacy-token\" fill=\"currentColor\" text-anchor=\"middle\" y=\"572.0\">\n",
       "    <tspan class=\"displacy-word\" fill=\"currentColor\" x=\"1625\">業者</tspan>\n",
       "    <tspan class=\"displacy-tag\" dy=\"2em\" fill=\"currentColor\" x=\"1625\">VERB</tspan>\n",
       "</text>\n",
       "\n",
       "<text class=\"displacy-token\" fill=\"currentColor\" text-anchor=\"middle\" y=\"572.0\">\n",
       "    <tspan class=\"displacy-word\" fill=\"currentColor\" x=\"1800\">也</tspan>\n",
       "    <tspan class=\"displacy-tag\" dy=\"2em\" fill=\"currentColor\" x=\"1800\">ADV</tspan>\n",
       "</text>\n",
       "\n",
       "<text class=\"displacy-token\" fill=\"currentColor\" text-anchor=\"middle\" y=\"572.0\">\n",
       "    <tspan class=\"displacy-word\" fill=\"currentColor\" x=\"1975\">會</tspan>\n",
       "    <tspan class=\"displacy-tag\" dy=\"2em\" fill=\"currentColor\" x=\"1975\">ADV</tspan>\n",
       "</text>\n",
       "\n",
       "<text class=\"displacy-token\" fill=\"currentColor\" text-anchor=\"middle\" y=\"572.0\">\n",
       "    <tspan class=\"displacy-word\" fill=\"currentColor\" x=\"2150\">推出</tspan>\n",
       "    <tspan class=\"displacy-tag\" dy=\"2em\" fill=\"currentColor\" x=\"2150\">VERB</tspan>\n",
       "</text>\n",
       "\n",
       "<text class=\"displacy-token\" fill=\"currentColor\" text-anchor=\"middle\" y=\"572.0\">\n",
       "    <tspan class=\"displacy-word\" fill=\"currentColor\" x=\"2325\">相關</tspan>\n",
       "    <tspan class=\"displacy-tag\" dy=\"2em\" fill=\"currentColor\" x=\"2325\">VERB</tspan>\n",
       "</text>\n",
       "\n",
       "<text class=\"displacy-token\" fill=\"currentColor\" text-anchor=\"middle\" y=\"572.0\">\n",
       "    <tspan class=\"displacy-word\" fill=\"currentColor\" x=\"2500\">的</tspan>\n",
       "    <tspan class=\"displacy-tag\" dy=\"2em\" fill=\"currentColor\" x=\"2500\">PART</tspan>\n",
       "</text>\n",
       "\n",
       "<text class=\"displacy-token\" fill=\"currentColor\" text-anchor=\"middle\" y=\"572.0\">\n",
       "    <tspan class=\"displacy-word\" fill=\"currentColor\" x=\"2675\">優惠</tspan>\n",
       "    <tspan class=\"displacy-tag\" dy=\"2em\" fill=\"currentColor\" x=\"2675\">NOUN</tspan>\n",
       "</text>\n",
       "\n",
       "<text class=\"displacy-token\" fill=\"currentColor\" text-anchor=\"middle\" y=\"572.0\">\n",
       "    <tspan class=\"displacy-word\" fill=\"currentColor\" x=\"2850\">活動。</tspan>\n",
       "    <tspan class=\"displacy-tag\" dy=\"2em\" fill=\"currentColor\" x=\"2850\">NOUN</tspan>\n",
       "</text>\n",
       "\n",
       "<g class=\"displacy-arrow\">\n",
       "    <path class=\"displacy-arc\" id=\"arrow-e77a9d6487f1459d88b32fab0d541061-0-0\" stroke-width=\"2px\" d=\"M70,527.0 C70,352.0 380.0,352.0 380.0,527.0\" fill=\"none\" stroke=\"currentColor\"/>\n",
       "    <text dy=\"1.25em\" style=\"font-size: 0.8em; letter-spacing: 1px\">\n",
       "        <textPath xlink:href=\"#arrow-e77a9d6487f1459d88b32fab0d541061-0-0\" class=\"displacy-label\" startOffset=\"50%\" side=\"left\" fill=\"currentColor\" text-anchor=\"middle\">dep</textPath>\n",
       "    </text>\n",
       "    <path class=\"displacy-arrowhead\" d=\"M70,529.0 L62,517.0 78,517.0\" fill=\"currentColor\"/>\n",
       "</g>\n",
       "\n",
       "<g class=\"displacy-arrow\">\n",
       "    <path class=\"displacy-arc\" id=\"arrow-e77a9d6487f1459d88b32fab0d541061-0-1\" stroke-width=\"2px\" d=\"M70,527.0 C70,439.5 200.0,439.5 200.0,527.0\" fill=\"none\" stroke=\"currentColor\"/>\n",
       "    <text dy=\"1.25em\" style=\"font-size: 0.8em; letter-spacing: 1px\">\n",
       "        <textPath xlink:href=\"#arrow-e77a9d6487f1459d88b32fab0d541061-0-1\" class=\"displacy-label\" startOffset=\"50%\" side=\"left\" fill=\"currentColor\" text-anchor=\"middle\">mark:clf</textPath>\n",
       "    </text>\n",
       "    <path class=\"displacy-arrowhead\" d=\"M200.0,529.0 L208.0,517.0 192.0,517.0\" fill=\"currentColor\"/>\n",
       "</g>\n",
       "\n",
       "<g class=\"displacy-arrow\">\n",
       "    <path class=\"displacy-arc\" id=\"arrow-e77a9d6487f1459d88b32fab0d541061-0-2\" stroke-width=\"2px\" d=\"M595,527.0 C595,439.5 725.0,439.5 725.0,527.0\" fill=\"none\" stroke=\"currentColor\"/>\n",
       "    <text dy=\"1.25em\" style=\"font-size: 0.8em; letter-spacing: 1px\">\n",
       "        <textPath xlink:href=\"#arrow-e77a9d6487f1459d88b32fab0d541061-0-2\" class=\"displacy-label\" startOffset=\"50%\" side=\"left\" fill=\"currentColor\" text-anchor=\"middle\">aux:modal</textPath>\n",
       "    </text>\n",
       "    <path class=\"displacy-arrowhead\" d=\"M595,529.0 L587,517.0 603,517.0\" fill=\"currentColor\"/>\n",
       "</g>\n",
       "\n",
       "<g class=\"displacy-arrow\">\n",
       "    <path class=\"displacy-arc\" id=\"arrow-e77a9d6487f1459d88b32fab0d541061-0-3\" stroke-width=\"2px\" d=\"M420,527.0 C420,352.0 730.0,352.0 730.0,527.0\" fill=\"none\" stroke=\"currentColor\"/>\n",
       "    <text dy=\"1.25em\" style=\"font-size: 0.8em; letter-spacing: 1px\">\n",
       "        <textPath xlink:href=\"#arrow-e77a9d6487f1459d88b32fab0d541061-0-3\" class=\"displacy-label\" startOffset=\"50%\" side=\"left\" fill=\"currentColor\" text-anchor=\"middle\">ccomp</textPath>\n",
       "    </text>\n",
       "    <path class=\"displacy-arrowhead\" d=\"M730.0,529.0 L738.0,517.0 722.0,517.0\" fill=\"currentColor\"/>\n",
       "</g>\n",
       "\n",
       "<g class=\"displacy-arrow\">\n",
       "    <path class=\"displacy-arc\" id=\"arrow-e77a9d6487f1459d88b32fab0d541061-0-4\" stroke-width=\"2px\" d=\"M945,527.0 C945,264.5 1435.0,264.5 1435.0,527.0\" fill=\"none\" stroke=\"currentColor\"/>\n",
       "    <text dy=\"1.25em\" style=\"font-size: 0.8em; letter-spacing: 1px\">\n",
       "        <textPath xlink:href=\"#arrow-e77a9d6487f1459d88b32fab0d541061-0-4\" class=\"displacy-label\" startOffset=\"50%\" side=\"left\" fill=\"currentColor\" text-anchor=\"middle\">compound:nn</textPath>\n",
       "    </text>\n",
       "    <path class=\"displacy-arrowhead\" d=\"M945,529.0 L937,517.0 953,517.0\" fill=\"currentColor\"/>\n",
       "</g>\n",
       "\n",
       "<g class=\"displacy-arrow\">\n",
       "    <path class=\"displacy-arc\" id=\"arrow-e77a9d6487f1459d88b32fab0d541061-0-5\" stroke-width=\"2px\" d=\"M1120,527.0 C1120,352.0 1430.0,352.0 1430.0,527.0\" fill=\"none\" stroke=\"currentColor\"/>\n",
       "    <text dy=\"1.25em\" style=\"font-size: 0.8em; letter-spacing: 1px\">\n",
       "        <textPath xlink:href=\"#arrow-e77a9d6487f1459d88b32fab0d541061-0-5\" class=\"displacy-label\" startOffset=\"50%\" side=\"left\" fill=\"currentColor\" text-anchor=\"middle\">conj</textPath>\n",
       "    </text>\n",
       "    <path class=\"displacy-arrowhead\" d=\"M1120,529.0 L1112,517.0 1128,517.0\" fill=\"currentColor\"/>\n",
       "</g>\n",
       "\n",
       "<g class=\"displacy-arrow\">\n",
       "    <path class=\"displacy-arc\" id=\"arrow-e77a9d6487f1459d88b32fab0d541061-0-6\" stroke-width=\"2px\" d=\"M1295,527.0 C1295,439.5 1425.0,439.5 1425.0,527.0\" fill=\"none\" stroke=\"currentColor\"/>\n",
       "    <text dy=\"1.25em\" style=\"font-size: 0.8em; letter-spacing: 1px\">\n",
       "        <textPath xlink:href=\"#arrow-e77a9d6487f1459d88b32fab0d541061-0-6\" class=\"displacy-label\" startOffset=\"50%\" side=\"left\" fill=\"currentColor\" text-anchor=\"middle\">cc</textPath>\n",
       "    </text>\n",
       "    <path class=\"displacy-arrowhead\" d=\"M1295,529.0 L1287,517.0 1303,517.0\" fill=\"currentColor\"/>\n",
       "</g>\n",
       "\n",
       "<g class=\"displacy-arrow\">\n",
       "    <path class=\"displacy-arc\" id=\"arrow-e77a9d6487f1459d88b32fab0d541061-0-7\" stroke-width=\"2px\" d=\"M770,527.0 C770,177.0 1440.0,177.0 1440.0,527.0\" fill=\"none\" stroke=\"currentColor\"/>\n",
       "    <text dy=\"1.25em\" style=\"font-size: 0.8em; letter-spacing: 1px\">\n",
       "        <textPath xlink:href=\"#arrow-e77a9d6487f1459d88b32fab0d541061-0-7\" class=\"displacy-label\" startOffset=\"50%\" side=\"left\" fill=\"currentColor\" text-anchor=\"middle\">dobj</textPath>\n",
       "    </text>\n",
       "    <path class=\"displacy-arrowhead\" d=\"M1440.0,529.0 L1448.0,517.0 1432.0,517.0\" fill=\"currentColor\"/>\n",
       "</g>\n",
       "\n",
       "<g class=\"displacy-arrow\">\n",
       "    <path class=\"displacy-arc\" id=\"arrow-e77a9d6487f1459d88b32fab0d541061-0-8\" stroke-width=\"2px\" d=\"M420,527.0 C420,89.5 1620.0,89.5 1620.0,527.0\" fill=\"none\" stroke=\"currentColor\"/>\n",
       "    <text dy=\"1.25em\" style=\"font-size: 0.8em; letter-spacing: 1px\">\n",
       "        <textPath xlink:href=\"#arrow-e77a9d6487f1459d88b32fab0d541061-0-8\" class=\"displacy-label\" startOffset=\"50%\" side=\"left\" fill=\"currentColor\" text-anchor=\"middle\">conj</textPath>\n",
       "    </text>\n",
       "    <path class=\"displacy-arrowhead\" d=\"M1620.0,529.0 L1628.0,517.0 1612.0,517.0\" fill=\"currentColor\"/>\n",
       "</g>\n",
       "\n",
       "<g class=\"displacy-arrow\">\n",
       "    <path class=\"displacy-arc\" id=\"arrow-e77a9d6487f1459d88b32fab0d541061-0-9\" stroke-width=\"2px\" d=\"M1820,527.0 C1820,352.0 2130.0,352.0 2130.0,527.0\" fill=\"none\" stroke=\"currentColor\"/>\n",
       "    <text dy=\"1.25em\" style=\"font-size: 0.8em; letter-spacing: 1px\">\n",
       "        <textPath xlink:href=\"#arrow-e77a9d6487f1459d88b32fab0d541061-0-9\" class=\"displacy-label\" startOffset=\"50%\" side=\"left\" fill=\"currentColor\" text-anchor=\"middle\">advmod</textPath>\n",
       "    </text>\n",
       "    <path class=\"displacy-arrowhead\" d=\"M1820,529.0 L1812,517.0 1828,517.0\" fill=\"currentColor\"/>\n",
       "</g>\n",
       "\n",
       "<g class=\"displacy-arrow\">\n",
       "    <path class=\"displacy-arc\" id=\"arrow-e77a9d6487f1459d88b32fab0d541061-0-10\" stroke-width=\"2px\" d=\"M1995,527.0 C1995,439.5 2125.0,439.5 2125.0,527.0\" fill=\"none\" stroke=\"currentColor\"/>\n",
       "    <text dy=\"1.25em\" style=\"font-size: 0.8em; letter-spacing: 1px\">\n",
       "        <textPath xlink:href=\"#arrow-e77a9d6487f1459d88b32fab0d541061-0-10\" class=\"displacy-label\" startOffset=\"50%\" side=\"left\" fill=\"currentColor\" text-anchor=\"middle\">advmod</textPath>\n",
       "    </text>\n",
       "    <path class=\"displacy-arrowhead\" d=\"M1995,529.0 L1987,517.0 2003,517.0\" fill=\"currentColor\"/>\n",
       "</g>\n",
       "\n",
       "<g class=\"displacy-arrow\">\n",
       "    <path class=\"displacy-arc\" id=\"arrow-e77a9d6487f1459d88b32fab0d541061-0-11\" stroke-width=\"2px\" d=\"M420,527.0 C420,2.0 2150.0,2.0 2150.0,527.0\" fill=\"none\" stroke=\"currentColor\"/>\n",
       "    <text dy=\"1.25em\" style=\"font-size: 0.8em; letter-spacing: 1px\">\n",
       "        <textPath xlink:href=\"#arrow-e77a9d6487f1459d88b32fab0d541061-0-11\" class=\"displacy-label\" startOffset=\"50%\" side=\"left\" fill=\"currentColor\" text-anchor=\"middle\">conj</textPath>\n",
       "    </text>\n",
       "    <path class=\"displacy-arrowhead\" d=\"M2150.0,529.0 L2158.0,517.0 2142.0,517.0\" fill=\"currentColor\"/>\n",
       "</g>\n",
       "\n",
       "<g class=\"displacy-arrow\">\n",
       "    <path class=\"displacy-arc\" id=\"arrow-e77a9d6487f1459d88b32fab0d541061-0-12\" stroke-width=\"2px\" d=\"M2345,527.0 C2345,264.5 2835.0,264.5 2835.0,527.0\" fill=\"none\" stroke=\"currentColor\"/>\n",
       "    <text dy=\"1.25em\" style=\"font-size: 0.8em; letter-spacing: 1px\">\n",
       "        <textPath xlink:href=\"#arrow-e77a9d6487f1459d88b32fab0d541061-0-12\" class=\"displacy-label\" startOffset=\"50%\" side=\"left\" fill=\"currentColor\" text-anchor=\"middle\">acl</textPath>\n",
       "    </text>\n",
       "    <path class=\"displacy-arrowhead\" d=\"M2345,529.0 L2337,517.0 2353,517.0\" fill=\"currentColor\"/>\n",
       "</g>\n",
       "\n",
       "<g class=\"displacy-arrow\">\n",
       "    <path class=\"displacy-arc\" id=\"arrow-e77a9d6487f1459d88b32fab0d541061-0-13\" stroke-width=\"2px\" d=\"M2345,527.0 C2345,439.5 2475.0,439.5 2475.0,527.0\" fill=\"none\" stroke=\"currentColor\"/>\n",
       "    <text dy=\"1.25em\" style=\"font-size: 0.8em; letter-spacing: 1px\">\n",
       "        <textPath xlink:href=\"#arrow-e77a9d6487f1459d88b32fab0d541061-0-13\" class=\"displacy-label\" startOffset=\"50%\" side=\"left\" fill=\"currentColor\" text-anchor=\"middle\">mark</textPath>\n",
       "    </text>\n",
       "    <path class=\"displacy-arrowhead\" d=\"M2475.0,529.0 L2483.0,517.0 2467.0,517.0\" fill=\"currentColor\"/>\n",
       "</g>\n",
       "\n",
       "<g class=\"displacy-arrow\">\n",
       "    <path class=\"displacy-arc\" id=\"arrow-e77a9d6487f1459d88b32fab0d541061-0-14\" stroke-width=\"2px\" d=\"M2695,527.0 C2695,439.5 2825.0,439.5 2825.0,527.0\" fill=\"none\" stroke=\"currentColor\"/>\n",
       "    <text dy=\"1.25em\" style=\"font-size: 0.8em; letter-spacing: 1px\">\n",
       "        <textPath xlink:href=\"#arrow-e77a9d6487f1459d88b32fab0d541061-0-14\" class=\"displacy-label\" startOffset=\"50%\" side=\"left\" fill=\"currentColor\" text-anchor=\"middle\">compound:nn</textPath>\n",
       "    </text>\n",
       "    <path class=\"displacy-arrowhead\" d=\"M2695,529.0 L2687,517.0 2703,517.0\" fill=\"currentColor\"/>\n",
       "</g>\n",
       "\n",
       "<g class=\"displacy-arrow\">\n",
       "    <path class=\"displacy-arc\" id=\"arrow-e77a9d6487f1459d88b32fab0d541061-0-15\" stroke-width=\"2px\" d=\"M2170,527.0 C2170,177.0 2840.0,177.0 2840.0,527.0\" fill=\"none\" stroke=\"currentColor\"/>\n",
       "    <text dy=\"1.25em\" style=\"font-size: 0.8em; letter-spacing: 1px\">\n",
       "        <textPath xlink:href=\"#arrow-e77a9d6487f1459d88b32fab0d541061-0-15\" class=\"displacy-label\" startOffset=\"50%\" side=\"left\" fill=\"currentColor\" text-anchor=\"middle\">dobj</textPath>\n",
       "    </text>\n",
       "    <path class=\"displacy-arrowhead\" d=\"M2840.0,529.0 L2848.0,517.0 2832.0,517.0\" fill=\"currentColor\"/>\n",
       "</g>\n",
       "</svg></span>"
      ],
      "text/plain": [
       "<IPython.core.display.HTML object>"
      ]
     },
     "metadata": {},
     "output_type": "display_data"
    }
   ],
   "source": [
    "from spacy import displacy\n",
    "\n",
    "#nlp = spacy.load(\"zh_core_web_sm\")\n",
    "nlp = zh_core_web_sm.load()\n",
    "\n",
    "doc = nlp(my_text)\n",
    "\n",
    "displacy.render(doc, style=\"dep\")"
   ]
  },
  {
   "cell_type": "markdown",
   "metadata": {},
   "source": [
    "### Dependency Parsing 相依"
   ]
  },
  {
   "cell_type": "code",
   "execution_count": null,
   "metadata": {},
   "outputs": [],
   "source": [
    "#nlp = spacy.load(\"zh_core_web_sm\")\n",
    "nlp = zh_core_web_sm.load()\n",
    "\n",
    "doc = nlp(my_text)\n",
    "\n",
    "for chunk in doc.noun_chunks:\n",
    "    print(chunk.text, chunk.root.text, chunk.root.dep_, chunk.root.head.text)"
   ]
  },
  {
   "cell_type": "markdown",
   "metadata": {},
   "source": [
    "# 實體命名辨識"
   ]
  },
  {
   "cell_type": "code",
   "execution_count": 3,
   "metadata": {},
   "outputs": [
    {
     "data": {
      "text/html": [
       "<span class=\"tex2jax_ignore\"><div class=\"entities\" style=\"line-height: 2.5; direction: ltr\">\n",
       "<mark class=\"entity\" style=\"background: #e4e7d2; padding: 0.45em 0.6em; margin: 0 0.25em; line-height: 1; border-radius: 0.35em;\">\n",
       "    三\n",
       "    <span style=\"font-size: 0.8em; font-weight: bold; line-height: 1; border-radius: 0.35em; vertical-align: middle; margin-left: 0.5rem\">CARDINAL</span>\n",
       "</mark>\n",
       "倍券還可以買公益彩券及買黃金，業者也會推出相關的優惠活動。</div></span>"
      ],
      "text/plain": [
       "<IPython.core.display.HTML object>"
      ]
     },
     "metadata": {},
     "output_type": "display_data"
    }
   ],
   "source": [
    "displacy.render(doc, style=\"ent\")"
   ]
  },
  {
   "cell_type": "code",
   "execution_count": 4,
   "metadata": {},
   "outputs": [],
   "source": [
    "text2 = \"銀河系其實滿是外星人？NASA爆銀河奧秘：大多數都死了\"\n",
    "nlp = zh_core_web_sm.load()\n",
    "doc2 = nlp(text2)"
   ]
  },
  {
   "cell_type": "code",
   "execution_count": 5,
   "metadata": {},
   "outputs": [
    {
     "data": {
      "text/plain": [
       "array([ 0.16723259, -0.6700667 ,  0.97925323, -0.51825786,  0.31154615,\n",
       "        0.5469232 , -0.06836909, -0.24315631,  0.17094064,  0.05445863,\n",
       "        0.4444161 , -0.5943327 , -0.62821436, -0.49415278, -0.00581951,\n",
       "        0.05655156, -0.20414378,  0.00221996,  0.13637055,  0.19772285,\n",
       "        0.01026848, -0.00603558, -0.54161227, -0.44664335, -0.32252198,\n",
       "        0.07145989, -0.03847126, -0.25116184, -0.01609054, -0.12755124,\n",
       "       -0.13498253,  0.6028678 , -0.82629657, -0.13215956,  0.22498178,\n",
       "       -0.08991627, -0.27909178, -0.25237194,  0.2723955 ,  0.969721  ,\n",
       "       -0.6090539 ,  0.0369646 ,  0.18440229, -0.5436306 ,  0.6924165 ,\n",
       "        0.47033   ,  0.05933892,  0.11893684,  0.27713415, -0.3006593 ,\n",
       "       -0.08915594,  0.706766  , -0.5574853 , -0.0230346 ,  0.03670768,\n",
       "        0.59210813, -0.00830769, -0.48893183, -0.08817853, -0.10035253,\n",
       "        0.66523   ,  0.08886814,  0.17716011, -0.2878304 , -0.17199862,\n",
       "       -0.5939613 , -0.5822407 , -0.08819171, -0.5936948 , -0.3825364 ,\n",
       "        0.1874471 ,  0.86206484, -0.3987189 , -0.26130402, -0.37692377,\n",
       "        0.07634608,  0.09698275,  0.0392847 ,  0.29400194,  0.28971887,\n",
       "        0.11836562,  0.06190408,  0.30737203,  0.3616522 , -0.29346943,\n",
       "       -0.10510913,  0.7368138 , -0.05528946,  0.2899051 , -0.26879704,\n",
       "        0.12221512,  0.43255916,  0.01094391, -0.5358452 , -0.149173  ,\n",
       "       -0.1978879 ], dtype=float32)"
      ]
     },
     "execution_count": 5,
     "metadata": {},
     "output_type": "execute_result"
    }
   ],
   "source": [
    "doc2.vector"
   ]
  },
  {
   "cell_type": "code",
   "execution_count": 6,
   "metadata": {},
   "outputs": [
    {
     "name": "stdout",
     "output_type": "stream",
     "text": [
      "銀河, NOUN\n",
      "系, NOUN\n",
      "其, PRON\n",
      "實滿, NOUN\n",
      "是, VERB\n",
      "外星人, NOUN\n",
      "？, PUNCT\n",
      "NASA, PROPN\n",
      "爆銀河, NOUN\n",
      "奧秘, VERB\n",
      "：, PUNCT\n",
      "大多, ADV\n",
      "數, ADV\n",
      "都, ADV\n",
      "死, VERB\n",
      "了, PART\n"
     ]
    }
   ],
   "source": [
    "for token in doc2:\n",
    "    print('{}, {}'.format(token.text, token.pos_))"
   ]
  },
  {
   "cell_type": "code",
   "execution_count": 7,
   "metadata": {},
   "outputs": [
    {
     "name": "stdout",
     "output_type": "stream",
     "text": [
      "銀河\n",
      "系\n",
      "其\n",
      "實滿\n",
      "是\n",
      "外星人\n",
      "？\n",
      "NASA\n",
      "爆銀河\n",
      "奧秘\n",
      "：\n",
      "大多\n",
      "數\n",
      "都\n",
      "死\n",
      "了\n"
     ]
    }
   ],
   "source": [
    "for token in doc2:\n",
    "    print('{}'.format(token.text))"
   ]
  },
  {
   "cell_type": "code",
   "execution_count": 8,
   "metadata": {},
   "outputs": [
    {
     "name": "stderr",
     "output_type": "stream",
     "text": [
      "<ipython-input-8-66caf95b13f6>:1: UserWarning: [W007] The model you're using has no word vectors loaded, so the result of the Doc.similarity method will be based on the tagger, parser and NER, which may not give useful similarity judgements. This may happen if you're using one of the small models, e.g. `en_core_web_sm`, which don't ship with word vectors and only use context-sensitive tensors. You can always add your own word vectors, or use one of the larger models instead if available.\n",
      "  doc2.similarity(doc)\n"
     ]
    },
    {
     "data": {
      "text/plain": [
       "0.3872648407501347"
      ]
     },
     "execution_count": 8,
     "metadata": {},
     "output_type": "execute_result"
    }
   ],
   "source": [
    "doc2.similarity(doc)"
   ]
  },
  {
   "cell_type": "code",
   "execution_count": 9,
   "metadata": {
    "jupyter": {
     "outputs_hidden": true
    }
   },
   "outputs": [
    {
     "data": {
      "text/plain": [
       "['…',\n",
       " '……',\n",
       " ',',\n",
       " ':',\n",
       " ';',\n",
       " '\\\\!',\n",
       " '\\\\?',\n",
       " '¿',\n",
       " '؟',\n",
       " '¡',\n",
       " '\\\\(',\n",
       " '\\\\)',\n",
       " '\\\\[',\n",
       " '\\\\]',\n",
       " '\\\\{',\n",
       " '\\\\}',\n",
       " '<',\n",
       " '>',\n",
       " '_',\n",
       " '#',\n",
       " '\\\\*',\n",
       " '&',\n",
       " '。',\n",
       " '？',\n",
       " '！',\n",
       " '，',\n",
       " '、',\n",
       " '；',\n",
       " '：',\n",
       " '～',\n",
       " '·',\n",
       " '।',\n",
       " '،',\n",
       " '۔',\n",
       " '؛',\n",
       " '٪',\n",
       " '\\\\.\\\\.+',\n",
       " '…',\n",
       " \"\\\\'\",\n",
       " '\"',\n",
       " '”',\n",
       " '“',\n",
       " '`',\n",
       " '‘',\n",
       " '´',\n",
       " '’',\n",
       " '‚',\n",
       " ',',\n",
       " '„',\n",
       " '»',\n",
       " '«',\n",
       " '「',\n",
       " '」',\n",
       " '『',\n",
       " '』',\n",
       " '（',\n",
       " '）',\n",
       " '〔',\n",
       " '〕',\n",
       " '【',\n",
       " '】',\n",
       " '《',\n",
       " '》',\n",
       " '〈',\n",
       " '〉',\n",
       " '[\\\\u00A6\\\\u00A9\\\\u00AE\\\\u00B0\\\\u0482\\\\u058D\\\\u058E\\\\u060E\\\\u060F\\\\u06DE\\\\u06E9\\\\u06FD\\\\u06FE\\\\u07F6\\\\u09FA\\\\u0B70\\\\u0BF3-\\\\u0BF8\\\\u0BFA\\\\u0C7F\\\\u0D4F\\\\u0D79\\\\u0F01-\\\\u0F03\\\\u0F13\\\\u0F15-\\\\u0F17\\\\u0F1A-\\\\u0F1F\\\\u0F34\\\\u0F36\\\\u0F38\\\\u0FBE-\\\\u0FC5\\\\u0FC7-\\\\u0FCC\\\\u0FCE\\\\u0FCF\\\\u0FD5-\\\\u0FD8\\\\u109E\\\\u109F\\\\u1390-\\\\u1399\\\\u1940\\\\u19DE-\\\\u19FF\\\\u1B61-\\\\u1B6A\\\\u1B74-\\\\u1B7C\\\\u2100\\\\u2101\\\\u2103-\\\\u2106\\\\u2108\\\\u2109\\\\u2114\\\\u2116\\\\u2117\\\\u211E-\\\\u2123\\\\u2125\\\\u2127\\\\u2129\\\\u212E\\\\u213A\\\\u213B\\\\u214A\\\\u214C\\\\u214D\\\\u214F\\\\u218A\\\\u218B\\\\u2195-\\\\u2199\\\\u219C-\\\\u219F\\\\u21A1\\\\u21A2\\\\u21A4\\\\u21A5\\\\u21A7-\\\\u21AD\\\\u21AF-\\\\u21CD\\\\u21D0\\\\u21D1\\\\u21D3\\\\u21D5-\\\\u21F3\\\\u2300-\\\\u2307\\\\u230C-\\\\u231F\\\\u2322-\\\\u2328\\\\u232B-\\\\u237B\\\\u237D-\\\\u239A\\\\u23B4-\\\\u23DB\\\\u23E2-\\\\u2426\\\\u2440-\\\\u244A\\\\u249C-\\\\u24E9\\\\u2500-\\\\u25B6\\\\u25B8-\\\\u25C0\\\\u25C2-\\\\u25F7\\\\u2600-\\\\u266E\\\\u2670-\\\\u2767\\\\u2794-\\\\u27BF\\\\u2800-\\\\u28FF\\\\u2B00-\\\\u2B2F\\\\u2B45\\\\u2B46\\\\u2B4D-\\\\u2B73\\\\u2B76-\\\\u2B95\\\\u2B98-\\\\u2BC8\\\\u2BCA-\\\\u2BFE\\\\u2CE5-\\\\u2CEA\\\\u2E80-\\\\u2E99\\\\u2E9B-\\\\u2EF3\\\\u2F00-\\\\u2FD5\\\\u2FF0-\\\\u2FFB\\\\u3004\\\\u3012\\\\u3013\\\\u3020\\\\u3036\\\\u3037\\\\u303E\\\\u303F\\\\u3190\\\\u3191\\\\u3196-\\\\u319F\\\\u31C0-\\\\u31E3\\\\u3200-\\\\u321E\\\\u322A-\\\\u3247\\\\u3250\\\\u3260-\\\\u327F\\\\u328A-\\\\u32B0\\\\u32C0-\\\\u32FE\\\\u3300-\\\\u33FF\\\\u4DC0-\\\\u4DFF\\\\uA490-\\\\uA4C6\\\\uA828-\\\\uA82B\\\\uA836\\\\uA837\\\\uA839\\\\uAA77-\\\\uAA79\\\\uFDFD\\\\uFFE4\\\\uFFE8\\\\uFFED\\\\uFFEE\\\\uFFFC\\\\uFFFD\\\\U00010137-\\\\U0001013F\\\\U00010179-\\\\U00010189\\\\U0001018C-\\\\U0001018E\\\\U00010190-\\\\U0001019B\\\\U000101A0\\\\U000101D0-\\\\U000101FC\\\\U00010877\\\\U00010878\\\\U00010AC8\\\\U0001173F\\\\U00016B3C-\\\\U00016B3F\\\\U00016B45\\\\U0001BC9C\\\\U0001D000-\\\\U0001D0F5\\\\U0001D100-\\\\U0001D126\\\\U0001D129-\\\\U0001D164\\\\U0001D16A-\\\\U0001D16C\\\\U0001D183\\\\U0001D184\\\\U0001D18C-\\\\U0001D1A9\\\\U0001D1AE-\\\\U0001D1E8\\\\U0001D200-\\\\U0001D241\\\\U0001D245\\\\U0001D300-\\\\U0001D356\\\\U0001D800-\\\\U0001D9FF\\\\U0001DA37-\\\\U0001DA3A\\\\U0001DA6D-\\\\U0001DA74\\\\U0001DA76-\\\\U0001DA83\\\\U0001DA85\\\\U0001DA86\\\\U0001ECAC\\\\U0001F000-\\\\U0001F02B\\\\U0001F030-\\\\U0001F093\\\\U0001F0A0-\\\\U0001F0AE\\\\U0001F0B1-\\\\U0001F0BF\\\\U0001F0C1-\\\\U0001F0CF\\\\U0001F0D1-\\\\U0001F0F5\\\\U0001F110-\\\\U0001F16B\\\\U0001F170-\\\\U0001F1AC\\\\U0001F1E6-\\\\U0001F202\\\\U0001F210-\\\\U0001F23B\\\\U0001F240-\\\\U0001F248\\\\U0001F250\\\\U0001F251\\\\U0001F260-\\\\U0001F265\\\\U0001F300-\\\\U0001F3FA\\\\U0001F400-\\\\U0001F6D4\\\\U0001F6E0-\\\\U0001F6EC\\\\U0001F6F0-\\\\U0001F6F9\\\\U0001F700-\\\\U0001F773\\\\U0001F780-\\\\U0001F7D8\\\\U0001F800-\\\\U0001F80B\\\\U0001F810-\\\\U0001F847\\\\U0001F850-\\\\U0001F859\\\\U0001F860-\\\\U0001F887\\\\U0001F890-\\\\U0001F8AD\\\\U0001F900-\\\\U0001F90B\\\\U0001F910-\\\\U0001F93E\\\\U0001F940-\\\\U0001F970\\\\U0001F973-\\\\U0001F976\\\\U0001F97A\\\\U0001F97C-\\\\U0001F9A2\\\\U0001F9B0-\\\\U0001F9B9\\\\U0001F9C0-\\\\U0001F9C2\\\\U0001F9D0-\\\\U0001F9FF\\\\U0001FA60-\\\\U0001FA6D]',\n",
       " \"'s\",\n",
       " \"'S\",\n",
       " '’s',\n",
       " '’S',\n",
       " '—',\n",
       " '–',\n",
       " '(?<=[0-9])\\\\+',\n",
       " '(?<=°[FfCcKk])\\\\.',\n",
       " '(?<=[0-9])(?:\\\\$|£|€|¥|฿|US\\\\$|C\\\\$|A\\\\$|₽|﷼|₴)',\n",
       " '(?<=[0-9])(?:km|km²|km³|m|m²|m³|dm|dm²|dm³|cm|cm²|cm³|mm|mm²|mm³|ha|µm|nm|yd|in|ft|kg|g|mg|µg|t|lb|oz|m/s|km/h|kmh|mph|hPa|Pa|mbar|mb|MB|kb|KB|gb|GB|tb|TB|T|G|M|K|%|км|км²|км³|м|м²|м³|дм|дм²|дм³|см|см²|см³|мм|мм²|мм³|нм|кг|г|мг|м/с|км/ч|кПа|Па|мбар|Кб|КБ|кб|Мб|МБ|мб|Гб|ГБ|гб|Тб|ТБ|тбكم|كم²|كم³|م|م²|م³|سم|سم²|سم³|مم|مم²|مم³|كم|غرام|جرام|جم|كغ|ملغ|كوب|اكواب)',\n",
       " '(?<=[0-9a-z\\\\uFF41-\\\\uFF5A\\\\u00DF-\\\\u00F6\\\\u00F8-\\\\u00FF\\\\u0101\\\\u0103\\\\u0105\\\\u0107\\\\u0109\\\\u010B\\\\u010D\\\\u010F\\\\u0111\\\\u0113\\\\u0115\\\\u0117\\\\u0119\\\\u011B\\\\u011D\\\\u011F\\\\u0121\\\\u0123\\\\u0125\\\\u0127\\\\u0129\\\\u012B\\\\u012D\\\\u012F\\\\u0131\\\\u0133\\\\u0135\\\\u0137\\\\u0138\\\\u013A\\\\u013C\\\\u013E\\\\u0140\\\\u0142\\\\u0144\\\\u0146\\\\u0148\\\\u0149\\\\u014B\\\\u014D\\\\u014F\\\\u0151\\\\u0153\\\\u0155\\\\u0157\\\\u0159\\\\u015B\\\\u015D\\\\u015F\\\\u0161\\\\u0163\\\\u0165\\\\u0167\\\\u0169\\\\u016B\\\\u016D\\\\u016F\\\\u0171\\\\u0173\\\\u0175\\\\u0177\\\\u017A\\\\u017C\\\\u017E\\\\u017F\\\\u0180\\\\u0183\\\\u0185\\\\u0188\\\\u018C\\\\u018D\\\\u0192\\\\u0195\\\\u0199-\\\\u019B\\\\u019E\\\\u01A1\\\\u01A3\\\\u01A5\\\\u01A8\\\\u01AA\\\\u01AB\\\\u01AD\\\\u01B0\\\\u01B4\\\\u01B6\\\\u01B9\\\\u01BA\\\\u01BD-\\\\u01BF\\\\u01C6\\\\u01C9\\\\u01CC\\\\u01CE\\\\u01D0\\\\u01D2\\\\u01D4\\\\u01D6\\\\u01D8\\\\u01DA\\\\u01DC\\\\u01DD\\\\u01DF\\\\u01E1\\\\u01E3\\\\u01E5\\\\u01E7\\\\u01E9\\\\u01EB\\\\u01ED\\\\u01EF\\\\u01F0\\\\u01F3\\\\u01F5\\\\u01F9\\\\u01FB\\\\u01FD\\\\u01FF\\\\u0201\\\\u0203\\\\u0205\\\\u0207\\\\u0209\\\\u020B\\\\u020D\\\\u020F\\\\u0211\\\\u0213\\\\u0215\\\\u0217\\\\u0219\\\\u021B\\\\u021D\\\\u021F\\\\u0221\\\\u0223\\\\u0225\\\\u0227\\\\u0229\\\\u022B\\\\u022D\\\\u022F\\\\u0231\\\\u0233-\\\\u0239\\\\u023C\\\\u023F\\\\u0240\\\\u0242\\\\u0247\\\\u0249\\\\u024B\\\\u024D\\\\u024F\\\\u2C61\\\\u2C65\\\\u2C66\\\\u2C68\\\\u2C6A\\\\u2C6C\\\\u2C71\\\\u2C73\\\\u2C74\\\\u2C76-\\\\u2C7B\\\\uA723\\\\uA725\\\\uA727\\\\uA729\\\\uA72B\\\\uA72D\\\\uA72F-\\\\uA731\\\\uA733\\\\uA735\\\\uA737\\\\uA739\\\\uA73B\\\\uA73D\\\\uA73F\\\\uA741\\\\uA743\\\\uA745\\\\uA747\\\\uA749\\\\uA74B\\\\uA74D\\\\uA74F\\\\uA751\\\\uA753\\\\uA755\\\\uA757\\\\uA759\\\\uA75B\\\\uA75D\\\\uA75F\\\\uA761\\\\uA763\\\\uA765\\\\uA767\\\\uA769\\\\uA76B\\\\uA76D\\\\uA76F\\\\uA771-\\\\uA778\\\\uA77A\\\\uA77C\\\\uA77F\\\\uA781\\\\uA783\\\\uA785\\\\uA787\\\\uA78C\\\\uA78E\\\\uA791\\\\uA793-\\\\uA795\\\\uA797\\\\uA799\\\\uA79B\\\\uA79D\\\\uA79F\\\\uA7A1\\\\uA7A3\\\\uA7A5\\\\uA7A7\\\\uA7A9\\\\uA7AF\\\\uA7B5\\\\uA7B7\\\\uA7B9\\\\uA7FA\\\\uAB30-\\\\uAB5A\\\\uAB60-\\\\uAB64\\\\u0250-\\\\u02AF\\\\u1D00-\\\\u1D25\\\\u1D6B-\\\\u1D77\\\\u1D79-\\\\u1D9A\\\\u1E01\\\\u1E03\\\\u1E05\\\\u1E07\\\\u1E09\\\\u1E0B\\\\u1E0D\\\\u1E0F\\\\u1E11\\\\u1E13\\\\u1E15\\\\u1E17\\\\u1E19\\\\u1E1B\\\\u1E1D\\\\u1E1F\\\\u1E21\\\\u1E23\\\\u1E25\\\\u1E27\\\\u1E29\\\\u1E2B\\\\u1E2D\\\\u1E2F\\\\u1E31\\\\u1E33\\\\u1E35\\\\u1E37\\\\u1E39\\\\u1E3B\\\\u1E3D\\\\u1E3F\\\\u1E41\\\\u1E43\\\\u1E45\\\\u1E47\\\\u1E49\\\\u1E4B\\\\u1E4D\\\\u1E4F\\\\u1E51\\\\u1E53\\\\u1E55\\\\u1E57\\\\u1E59\\\\u1E5B\\\\u1E5D\\\\u1E5F\\\\u1E61\\\\u1E63\\\\u1E65\\\\u1E67\\\\u1E69\\\\u1E6B\\\\u1E6D\\\\u1E6F\\\\u1E71\\\\u1E73\\\\u1E75\\\\u1E77\\\\u1E79\\\\u1E7B\\\\u1E7D\\\\u1E7F\\\\u1E81\\\\u1E83\\\\u1E85\\\\u1E87\\\\u1E89\\\\u1E8B\\\\u1E8D\\\\u1E8F\\\\u1E91\\\\u1E93\\\\u1E95-\\\\u1E9D\\\\u1E9F\\\\u1EA1\\\\u1EA3\\\\u1EA5\\\\u1EA7\\\\u1EA9\\\\u1EAB\\\\u1EAD\\\\u1EAF\\\\u1EB1\\\\u1EB3\\\\u1EB5\\\\u1EB7\\\\u1EB9\\\\u1EBB\\\\u1EBD\\\\u1EBF\\\\u1EC1\\\\u1EC3\\\\u1EC5\\\\u1EC7\\\\u1EC9\\\\u1ECB\\\\u1ECD\\\\u1ECF\\\\u1ED1\\\\u1ED3\\\\u1ED5\\\\u1ED7\\\\u1ED9\\\\u1EDB\\\\u1EDD\\\\u1EDF\\\\u1EE1\\\\u1EE3\\\\u1EE5\\\\u1EE7\\\\u1EE9\\\\u1EEB\\\\u1EED\\\\u1EEF\\\\u1EF1\\\\u1EF3\\\\u1EF5\\\\u1EF7\\\\u1EF9\\\\u1EFB\\\\u1EFD\\\\u1EFFёа-яәөүҗңһα-ωάέίόώήύа-щюяіїєґѓѕјљњќѐѝ\\\\u1200-\\\\u137F\\\\u0980-\\\\u09FF\\\\u0591-\\\\u05F4\\\\uFB1D-\\\\uFB4F\\\\u0620-\\\\u064A\\\\u066E-\\\\u06D5\\\\u06E5-\\\\u06FF\\\\u0750-\\\\u077F\\\\u08A0-\\\\u08BD\\\\uFB50-\\\\uFBB1\\\\uFBD3-\\\\uFD3D\\\\uFD50-\\\\uFDC7\\\\uFDF0-\\\\uFDFB\\\\uFE70-\\\\uFEFC\\\\U0001EE00-\\\\U0001EEBB\\\\u0D80-\\\\u0DFF\\\\u0900-\\\\u097F\\\\u0C80-\\\\u0CFF\\\\u0B80-\\\\u0BFF\\\\u0C00-\\\\u0C7F\\\\uAC00-\\\\uD7AF\\\\u1100-\\\\u11FF\\\\u4E00-\\\\u62FF\\\\u6300-\\\\u77FF\\\\u7800-\\\\u8CFF\\\\u8D00-\\\\u9FFF\\\\u3400-\\\\u4DBF\\\\U00020000-\\\\U000215FF\\\\U00021600-\\\\U000230FF\\\\U00023100-\\\\U000245FF\\\\U00024600-\\\\U000260FF\\\\U00026100-\\\\U000275FF\\\\U00027600-\\\\U000290FF\\\\U00029100-\\\\U0002A6DF\\\\U0002A700-\\\\U0002B73F\\\\U0002B740-\\\\U0002B81F\\\\U0002B820-\\\\U0002CEAF\\\\U0002CEB0-\\\\U0002EBEF\\\\u2E80-\\\\u2EFF\\\\u2F00-\\\\u2FDF\\\\u2FF0-\\\\u2FFF\\\\u3000-\\\\u303F\\\\u31C0-\\\\u31EF\\\\u3200-\\\\u32FF\\\\u3300-\\\\u33FF\\\\uF900-\\\\uFAFF\\\\uFE30-\\\\uFE4F\\\\U0001F200-\\\\U0001F2FF\\\\U0002F800-\\\\U0002FA1F%²\\\\-\\\\+…|……|,|:|;|\\\\!|\\\\?|¿|؟|¡|\\\\(|\\\\)|\\\\[|\\\\]|\\\\{|\\\\}|<|>|_|#|\\\\*|&|。|？|！|，|、|；|：|～|·|।|،|۔|؛|٪(?:\\\\\\'\"”“`‘´’‚,„»«「」『』（）〔〕【】《》〈〉)])\\\\.',\n",
       " '(?<=[A-Z\\\\uFF21-\\\\uFF3A\\\\u00C0-\\\\u00D6\\\\u00D8-\\\\u00DE\\\\u0100\\\\u0102\\\\u0104\\\\u0106\\\\u0108\\\\u010A\\\\u010C\\\\u010E\\\\u0110\\\\u0112\\\\u0114\\\\u0116\\\\u0118\\\\u011A\\\\u011C\\\\u011E\\\\u0120\\\\u0122\\\\u0124\\\\u0126\\\\u0128\\\\u012A\\\\u012C\\\\u012E\\\\u0130\\\\u0132\\\\u0134\\\\u0136\\\\u0139\\\\u013B\\\\u013D\\\\u013F\\\\u0141\\\\u0143\\\\u0145\\\\u0147\\\\u014A\\\\u014C\\\\u014E\\\\u0150\\\\u0152\\\\u0154\\\\u0156\\\\u0158\\\\u015A\\\\u015C\\\\u015E\\\\u0160\\\\u0162\\\\u0164\\\\u0166\\\\u0168\\\\u016A\\\\u016C\\\\u016E\\\\u0170\\\\u0172\\\\u0174\\\\u0176\\\\u0178\\\\u0179\\\\u017B\\\\u017D\\\\u0181\\\\u0182\\\\u0184\\\\u0186\\\\u0187\\\\u0189-\\\\u018B\\\\u018E-\\\\u0191\\\\u0193\\\\u0194\\\\u0196-\\\\u0198\\\\u019C\\\\u019D\\\\u019F\\\\u01A0\\\\u01A2\\\\u01A4\\\\u01A6\\\\u01A7\\\\u01A9\\\\u01AC\\\\u01AE\\\\u01AF\\\\u01B1-\\\\u01B3\\\\u01B5\\\\u01B7\\\\u01B8\\\\u01BC\\\\u01C4\\\\u01C7\\\\u01CA\\\\u01CD\\\\u01CF\\\\u01D1\\\\u01D3\\\\u01D5\\\\u01D7\\\\u01D9\\\\u01DB\\\\u01DE\\\\u01E0\\\\u01E2\\\\u01E4\\\\u01E6\\\\u01E8\\\\u01EA\\\\u01EC\\\\u01EE\\\\u01F1\\\\u01F4\\\\u01F6-\\\\u01F8\\\\u01FA\\\\u01FC\\\\u01FE\\\\u0200\\\\u0202\\\\u0204\\\\u0206\\\\u0208\\\\u020A\\\\u020C\\\\u020E\\\\u0210\\\\u0212\\\\u0214\\\\u0216\\\\u0218\\\\u021A\\\\u021C\\\\u021E\\\\u0220\\\\u0222\\\\u0224\\\\u0226\\\\u0228\\\\u022A\\\\u022C\\\\u022E\\\\u0230\\\\u0232\\\\u023A\\\\u023B\\\\u023D\\\\u023E\\\\u0241\\\\u0243-\\\\u0246\\\\u0248\\\\u024A\\\\u024C\\\\u024E\\\\u2C60\\\\u2C62-\\\\u2C64\\\\u2C67\\\\u2C69\\\\u2C6B\\\\u2C6D-\\\\u2C70\\\\u2C72\\\\u2C75\\\\u2C7E\\\\u2C7F\\\\uA722\\\\uA724\\\\uA726\\\\uA728\\\\uA72A\\\\uA72C\\\\uA72E\\\\uA732\\\\uA734\\\\uA736\\\\uA738\\\\uA73A\\\\uA73C\\\\uA73E\\\\uA740\\\\uA742\\\\uA744\\\\uA746\\\\uA748\\\\uA74A\\\\uA74C\\\\uA74E\\\\uA750\\\\uA752\\\\uA754\\\\uA756\\\\uA758\\\\uA75A\\\\uA75C\\\\uA75E\\\\uA760\\\\uA762\\\\uA764\\\\uA766\\\\uA768\\\\uA76A\\\\uA76C\\\\uA76E\\\\uA779\\\\uA77B\\\\uA77D\\\\uA77E\\\\uA780\\\\uA782\\\\uA784\\\\uA786\\\\uA78B\\\\uA78D\\\\uA790\\\\uA792\\\\uA796\\\\uA798\\\\uA79A\\\\uA79C\\\\uA79E\\\\uA7A0\\\\uA7A2\\\\uA7A4\\\\uA7A6\\\\uA7A8\\\\uA7AA-\\\\uA7AE\\\\uA7B0-\\\\uA7B4\\\\uA7B6\\\\uA7B8\\\\u1E00\\\\u1E02\\\\u1E04\\\\u1E06\\\\u1E08\\\\u1E0A\\\\u1E0C\\\\u1E0E\\\\u1E10\\\\u1E12\\\\u1E14\\\\u1E16\\\\u1E18\\\\u1E1A\\\\u1E1C\\\\u1E1E\\\\u1E20\\\\u1E22\\\\u1E24\\\\u1E26\\\\u1E28\\\\u1E2A\\\\u1E2C\\\\u1E2E\\\\u1E30\\\\u1E32\\\\u1E34\\\\u1E36\\\\u1E38\\\\u1E3A\\\\u1E3C\\\\u1E3E\\\\u1E40\\\\u1E42\\\\u1E44\\\\u1E46\\\\u1E48\\\\u1E4A\\\\u1E4C\\\\u1E4E\\\\u1E50\\\\u1E52\\\\u1E54\\\\u1E56\\\\u1E58\\\\u1E5A\\\\u1E5C\\\\u1E5E\\\\u1E60\\\\u1E62\\\\u1E64\\\\u1E66\\\\u1E68\\\\u1E6A\\\\u1E6C\\\\u1E6E\\\\u1E70\\\\u1E72\\\\u1E74\\\\u1E76\\\\u1E78\\\\u1E7A\\\\u1E7C\\\\u1E7E\\\\u1E80\\\\u1E82\\\\u1E84\\\\u1E86\\\\u1E88\\\\u1E8A\\\\u1E8C\\\\u1E8E\\\\u1E90\\\\u1E92\\\\u1E94\\\\u1E9E\\\\u1EA0\\\\u1EA2\\\\u1EA4\\\\u1EA6\\\\u1EA8\\\\u1EAA\\\\u1EAC\\\\u1EAE\\\\u1EB0\\\\u1EB2\\\\u1EB4\\\\u1EB6\\\\u1EB8\\\\u1EBA\\\\u1EBC\\\\u1EBE\\\\u1EC0\\\\u1EC2\\\\u1EC4\\\\u1EC6\\\\u1EC8\\\\u1ECA\\\\u1ECC\\\\u1ECE\\\\u1ED0\\\\u1ED2\\\\u1ED4\\\\u1ED6\\\\u1ED8\\\\u1EDA\\\\u1EDC\\\\u1EDE\\\\u1EE0\\\\u1EE2\\\\u1EE4\\\\u1EE6\\\\u1EE8\\\\u1EEA\\\\u1EEC\\\\u1EEE\\\\u1EF0\\\\u1EF2\\\\u1EF4\\\\u1EF6\\\\u1EF8\\\\u1EFA\\\\u1EFC\\\\u1EFEЁА-ЯӘӨҮҖҢҺΑ-ΩΆΈΊΌΏΉΎА-ЩЮЯІЇЄҐЃЅЈЉЊЌЀЍ\\\\u1200-\\\\u137F\\\\u0980-\\\\u09FF\\\\u0591-\\\\u05F4\\\\uFB1D-\\\\uFB4F\\\\u0620-\\\\u064A\\\\u066E-\\\\u06D5\\\\u06E5-\\\\u06FF\\\\u0750-\\\\u077F\\\\u08A0-\\\\u08BD\\\\uFB50-\\\\uFBB1\\\\uFBD3-\\\\uFD3D\\\\uFD50-\\\\uFDC7\\\\uFDF0-\\\\uFDFB\\\\uFE70-\\\\uFEFC\\\\U0001EE00-\\\\U0001EEBB\\\\u0D80-\\\\u0DFF\\\\u0900-\\\\u097F\\\\u0C80-\\\\u0CFF\\\\u0B80-\\\\u0BFF\\\\u0C00-\\\\u0C7F\\\\uAC00-\\\\uD7AF\\\\u1100-\\\\u11FF\\\\u4E00-\\\\u62FF\\\\u6300-\\\\u77FF\\\\u7800-\\\\u8CFF\\\\u8D00-\\\\u9FFF\\\\u3400-\\\\u4DBF\\\\U00020000-\\\\U000215FF\\\\U00021600-\\\\U000230FF\\\\U00023100-\\\\U000245FF\\\\U00024600-\\\\U000260FF\\\\U00026100-\\\\U000275FF\\\\U00027600-\\\\U000290FF\\\\U00029100-\\\\U0002A6DF\\\\U0002A700-\\\\U0002B73F\\\\U0002B740-\\\\U0002B81F\\\\U0002B820-\\\\U0002CEAF\\\\U0002CEB0-\\\\U0002EBEF\\\\u2E80-\\\\u2EFF\\\\u2F00-\\\\u2FDF\\\\u2FF0-\\\\u2FFF\\\\u3000-\\\\u303F\\\\u31C0-\\\\u31EF\\\\u3200-\\\\u32FF\\\\u3300-\\\\u33FF\\\\uF900-\\\\uFAFF\\\\uFE30-\\\\uFE4F\\\\U0001F200-\\\\U0001F2FF\\\\U0002F800-\\\\U0002FA1F][A-Z\\\\uFF21-\\\\uFF3A\\\\u00C0-\\\\u00D6\\\\u00D8-\\\\u00DE\\\\u0100\\\\u0102\\\\u0104\\\\u0106\\\\u0108\\\\u010A\\\\u010C\\\\u010E\\\\u0110\\\\u0112\\\\u0114\\\\u0116\\\\u0118\\\\u011A\\\\u011C\\\\u011E\\\\u0120\\\\u0122\\\\u0124\\\\u0126\\\\u0128\\\\u012A\\\\u012C\\\\u012E\\\\u0130\\\\u0132\\\\u0134\\\\u0136\\\\u0139\\\\u013B\\\\u013D\\\\u013F\\\\u0141\\\\u0143\\\\u0145\\\\u0147\\\\u014A\\\\u014C\\\\u014E\\\\u0150\\\\u0152\\\\u0154\\\\u0156\\\\u0158\\\\u015A\\\\u015C\\\\u015E\\\\u0160\\\\u0162\\\\u0164\\\\u0166\\\\u0168\\\\u016A\\\\u016C\\\\u016E\\\\u0170\\\\u0172\\\\u0174\\\\u0176\\\\u0178\\\\u0179\\\\u017B\\\\u017D\\\\u0181\\\\u0182\\\\u0184\\\\u0186\\\\u0187\\\\u0189-\\\\u018B\\\\u018E-\\\\u0191\\\\u0193\\\\u0194\\\\u0196-\\\\u0198\\\\u019C\\\\u019D\\\\u019F\\\\u01A0\\\\u01A2\\\\u01A4\\\\u01A6\\\\u01A7\\\\u01A9\\\\u01AC\\\\u01AE\\\\u01AF\\\\u01B1-\\\\u01B3\\\\u01B5\\\\u01B7\\\\u01B8\\\\u01BC\\\\u01C4\\\\u01C7\\\\u01CA\\\\u01CD\\\\u01CF\\\\u01D1\\\\u01D3\\\\u01D5\\\\u01D7\\\\u01D9\\\\u01DB\\\\u01DE\\\\u01E0\\\\u01E2\\\\u01E4\\\\u01E6\\\\u01E8\\\\u01EA\\\\u01EC\\\\u01EE\\\\u01F1\\\\u01F4\\\\u01F6-\\\\u01F8\\\\u01FA\\\\u01FC\\\\u01FE\\\\u0200\\\\u0202\\\\u0204\\\\u0206\\\\u0208\\\\u020A\\\\u020C\\\\u020E\\\\u0210\\\\u0212\\\\u0214\\\\u0216\\\\u0218\\\\u021A\\\\u021C\\\\u021E\\\\u0220\\\\u0222\\\\u0224\\\\u0226\\\\u0228\\\\u022A\\\\u022C\\\\u022E\\\\u0230\\\\u0232\\\\u023A\\\\u023B\\\\u023D\\\\u023E\\\\u0241\\\\u0243-\\\\u0246\\\\u0248\\\\u024A\\\\u024C\\\\u024E\\\\u2C60\\\\u2C62-\\\\u2C64\\\\u2C67\\\\u2C69\\\\u2C6B\\\\u2C6D-\\\\u2C70\\\\u2C72\\\\u2C75\\\\u2C7E\\\\u2C7F\\\\uA722\\\\uA724\\\\uA726\\\\uA728\\\\uA72A\\\\uA72C\\\\uA72E\\\\uA732\\\\uA734\\\\uA736\\\\uA738\\\\uA73A\\\\uA73C\\\\uA73E\\\\uA740\\\\uA742\\\\uA744\\\\uA746\\\\uA748\\\\uA74A\\\\uA74C\\\\uA74E\\\\uA750\\\\uA752\\\\uA754\\\\uA756\\\\uA758\\\\uA75A\\\\uA75C\\\\uA75E\\\\uA760\\\\uA762\\\\uA764\\\\uA766\\\\uA768\\\\uA76A\\\\uA76C\\\\uA76E\\\\uA779\\\\uA77B\\\\uA77D\\\\uA77E\\\\uA780\\\\uA782\\\\uA784\\\\uA786\\\\uA78B\\\\uA78D\\\\uA790\\\\uA792\\\\uA796\\\\uA798\\\\uA79A\\\\uA79C\\\\uA79E\\\\uA7A0\\\\uA7A2\\\\uA7A4\\\\uA7A6\\\\uA7A8\\\\uA7AA-\\\\uA7AE\\\\uA7B0-\\\\uA7B4\\\\uA7B6\\\\uA7B8\\\\u1E00\\\\u1E02\\\\u1E04\\\\u1E06\\\\u1E08\\\\u1E0A\\\\u1E0C\\\\u1E0E\\\\u1E10\\\\u1E12\\\\u1E14\\\\u1E16\\\\u1E18\\\\u1E1A\\\\u1E1C\\\\u1E1E\\\\u1E20\\\\u1E22\\\\u1E24\\\\u1E26\\\\u1E28\\\\u1E2A\\\\u1E2C\\\\u1E2E\\\\u1E30\\\\u1E32\\\\u1E34\\\\u1E36\\\\u1E38\\\\u1E3A\\\\u1E3C\\\\u1E3E\\\\u1E40\\\\u1E42\\\\u1E44\\\\u1E46\\\\u1E48\\\\u1E4A\\\\u1E4C\\\\u1E4E\\\\u1E50\\\\u1E52\\\\u1E54\\\\u1E56\\\\u1E58\\\\u1E5A\\\\u1E5C\\\\u1E5E\\\\u1E60\\\\u1E62\\\\u1E64\\\\u1E66\\\\u1E68\\\\u1E6A\\\\u1E6C\\\\u1E6E\\\\u1E70\\\\u1E72\\\\u1E74\\\\u1E76\\\\u1E78\\\\u1E7A\\\\u1E7C\\\\u1E7E\\\\u1E80\\\\u1E82\\\\u1E84\\\\u1E86\\\\u1E88\\\\u1E8A\\\\u1E8C\\\\u1E8E\\\\u1E90\\\\u1E92\\\\u1E94\\\\u1E9E\\\\u1EA0\\\\u1EA2\\\\u1EA4\\\\u1EA6\\\\u1EA8\\\\u1EAA\\\\u1EAC\\\\u1EAE\\\\u1EB0\\\\u1EB2\\\\u1EB4\\\\u1EB6\\\\u1EB8\\\\u1EBA\\\\u1EBC\\\\u1EBE\\\\u1EC0\\\\u1EC2\\\\u1EC4\\\\u1EC6\\\\u1EC8\\\\u1ECA\\\\u1ECC\\\\u1ECE\\\\u1ED0\\\\u1ED2\\\\u1ED4\\\\u1ED6\\\\u1ED8\\\\u1EDA\\\\u1EDC\\\\u1EDE\\\\u1EE0\\\\u1EE2\\\\u1EE4\\\\u1EE6\\\\u1EE8\\\\u1EEA\\\\u1EEC\\\\u1EEE\\\\u1EF0\\\\u1EF2\\\\u1EF4\\\\u1EF6\\\\u1EF8\\\\u1EFA\\\\u1EFC\\\\u1EFEЁА-ЯӘӨҮҖҢҺΑ-ΩΆΈΊΌΏΉΎА-ЩЮЯІЇЄҐЃЅЈЉЊЌЀЍ\\\\u1200-\\\\u137F\\\\u0980-\\\\u09FF\\\\u0591-\\\\u05F4\\\\uFB1D-\\\\uFB4F\\\\u0620-\\\\u064A\\\\u066E-\\\\u06D5\\\\u06E5-\\\\u06FF\\\\u0750-\\\\u077F\\\\u08A0-\\\\u08BD\\\\uFB50-\\\\uFBB1\\\\uFBD3-\\\\uFD3D\\\\uFD50-\\\\uFDC7\\\\uFDF0-\\\\uFDFB\\\\uFE70-\\\\uFEFC\\\\U0001EE00-\\\\U0001EEBB\\\\u0D80-\\\\u0DFF\\\\u0900-\\\\u097F\\\\u0C80-\\\\u0CFF\\\\u0B80-\\\\u0BFF\\\\u0C00-\\\\u0C7F\\\\uAC00-\\\\uD7AF\\\\u1100-\\\\u11FF\\\\u4E00-\\\\u62FF\\\\u6300-\\\\u77FF\\\\u7800-\\\\u8CFF\\\\u8D00-\\\\u9FFF\\\\u3400-\\\\u4DBF\\\\U00020000-\\\\U000215FF\\\\U00021600-\\\\U000230FF\\\\U00023100-\\\\U000245FF\\\\U00024600-\\\\U000260FF\\\\U00026100-\\\\U000275FF\\\\U00027600-\\\\U000290FF\\\\U00029100-\\\\U0002A6DF\\\\U0002A700-\\\\U0002B73F\\\\U0002B740-\\\\U0002B81F\\\\U0002B820-\\\\U0002CEAF\\\\U0002CEB0-\\\\U0002EBEF\\\\u2E80-\\\\u2EFF\\\\u2F00-\\\\u2FDF\\\\u2FF0-\\\\u2FFF\\\\u3000-\\\\u303F\\\\u31C0-\\\\u31EF\\\\u3200-\\\\u32FF\\\\u3300-\\\\u33FF\\\\uF900-\\\\uFAFF\\\\uFE30-\\\\uFE4F\\\\U0001F200-\\\\U0001F2FF\\\\U0002F800-\\\\U0002FA1F])\\\\.']"
      ]
     },
     "execution_count": 9,
     "metadata": {},
     "output_type": "execute_result"
    }
   ],
   "source": [
    "suffixes = list(nlp.Defaults.suffixes)\n",
    "suffixes"
   ]
  },
  {
   "cell_type": "code",
   "execution_count": 10,
   "metadata": {
    "jupyter": {
     "outputs_hidden": true
    }
   },
   "outputs": [
    {
     "name": "stdout",
     "output_type": "stream",
     "text": [
      "{'几时', '凭借', '另行', '一边', '而又', '接连不断', '不可', '进步', '突然', '所', '我们', '及至', '蛮', '方才', '至', '一直', 'ａ］', '处理', '穷年累月', '［③ａ］', '显然', '对方', 'A', '恰似', '通常', '从而', '＞', '屡次三番', '同', 'μ', '总之', '不得了', '当', '如次', '可', '并没', '＋ξ', '因而', '；', '.一', '嘿嘿', '来得及', '还', '抽冷子', '那般', '成心', '切切', '切勿', '敢于', '强烈', '一片', '尔后', '亲手', '左右', '另', '传闻', '非徒', '转变', '迄', '请勿', '［①③］', '清楚', '大多', '分期', '某个', '此后', '直接', '千', '是', '全然', '二话没说', '像', '逐渐', '果真', '连日来', '哪', '看到', '来说', '再次', '梆', '那么些', '』', '［①ｃ］', '相同', '除了', '历', '类如', '喏', '或者', '将近', '@', '莫不', '鉴于', '［①ｇ］', '打从', '大举', '从无到有', '比较', '公然', '并排', '单', '不论', '不外乎', '她的', '［②⑧］', '用', '使得', '不经意', '平素', '绝', '为什么', '尽如人意', '比起', '嗡', '?', '怎', '简直', '甚且', '她是', '过', '”', '7', '或曰', '偏偏', '2', '那会儿', '更加', '理该', '真是', '只怕', '啷当', '＝″', '共同', '朝着', '使用', '加以', '碰巧', '依', '哪边', '不定', '维持', '恰巧', '两者', '为此', '彼此', '直到', '二来', '彻底', '难道', '既', '不仅仅是', '不胜', '几', '这就是说', '全部', '极大', '就地', '不得', '属于', '［④ａ］', '①', '转贴', 'ｅ］', '按照', '＄', '等到', '到底', '继之', '尚且', '些', '犹自', '果然', '非独', '也好', '何须', '屡次', '＠', '该当', '明显', '迟早', '受到', '便', '差一点', '某', '诚如', '显著', '然后', '带', '１２％', '出来', '诸如', '本身', '如', '而已', '长话短说', '/', '比如', '它们', '．', '宣布', '饱', '再者说', '当中', '不管怎样', '难道说', '“', '一下', '以来', '向', '次第', '毫无保留地', '特点', '过来', '独自', '看起来', '反之', '［②ｊ］', '如此等等', '－［＊］－', '而外', '立即', '＜', '以及', '关于', '罢了', '呆呆地', '上面', '该', '全面', '趁势', '起初', '上', '人人', '反之则', '大力', '一一', '一次', '于是', '实际', '前者', '近', '多', '乘', '尽早', '少数', '是不是', '那些', '精光', '大致', '非但', '连声', 'sub', '正是', '充其量', '不至于', '率然', '其后', '’', '特殊', '她们', '不迭', '据悉', '心里', '［③⑩］', '迫于', '莫如', '那样', '不尽', '掌握', '多多少少', '［①④］', '”，', '之前', '另外', '多多', '--', '）、', '&', '不敢', '既...又', '瑟瑟', '甚或', '若果', '没奈何', '譬喻', '临到', '来', '九', '大面儿上', '大家', '并', '汝', '3', '固然', '今', '切莫', '大凡', '只有', '归根到底', '管', '那边', '乎', '立', '纵', '代替', '轰然', '各', '归齐', '〕', '怎么办', '不惟', '以前', '不能不', '能否', '全都', '下列', '为着', 'Ｒ．Ｌ．', '∈［', '切不可', '非特', '｜', '呸', '马上', '这', '较', '大', '各地', '｝', '甭', '譬如', '1', '这边', '似的', '欢迎', '据我所知', '］∧′＝［', ',', '要不', '趁早', '从来', '换句话说', '光', '不日', '倘若', '不亦乐乎', '有利', '那么样', '以', '这么些', '呼啦', '当前', '大略', '嘘', '傥然', '失去', '１', '屡屡', '从重', '它们的', '且不说', '靠', 'ｃ］', '立马', '呵呵', '刚巧', '因着', '以便', '［①⑦］', '奈', '各位', '权时', '＝☆', '〔', '多数', '每每', '=', '此地', '说来', '忽然', '据说', 'Ａ', '近几年来', '尽可能', '从此以后', '连连', '啪达', '臭', '［②ｉ］', '出于', '［②ｆ］', '立时', '结合', '它的', '［②ｇ］', '从轻', '乘势', '欤', '竟', '纵令', '俺们', '×××', '］', '不久', '后来', '更', '、', '不力', '皆可', '最後', '不要', '鄙人', '尔等', '那麽', '就算', '不下', '保持', '[', '趁机', '别人', '表示', '℃', '及时', '居然', '吗', '~', '越是', '相反', '一样', '或许', '俺', '怪', '哈哈', '毫无例外', '就此', '连同', '交口', '而且', '其一', '六', '离', '年复一年', '做到', '何乐而不为', '愿意', '［⑤ｄ］', '谁', '［②③］', '尽量', '屡', '一切', '二', '＇', '成年', '巨大', '乘胜', '......', '这样', '从优', '必定', '老老实实', '不限', '由', '凡是', '此', '理当', '即使', '默默地', '２', '且', '不再', '如果', 'exp', '似乎', '实现', '另一个', '－', '与此同时', '得出', '还要', '致', '［④］', '喽', '日复一日', '得起', '应该', '既然', '倍加', '哇', '＋', '得', '不问', '看见', '唯有', '］［', '过去', '必须', '许多', '到了儿', '这儿', '咱', '再者', '出去', '不巧', '②', '高低', '大都', 'Lex', '却不', '故而', '什么样', '￥', '替代', '旁人', '有时', '［①⑧］', '其它', '若夫', '＜±', '了解', '之', '始而', '之后', '不是', '重新', '＞λ', '喔唷', '要', '勃然', '全体', '同样', '【', '不成', '哗', '好的', '起首', '逢', '［③ｈ］', '略加', '惯常', '不可开交', '一转眼', '以上', '十分', '用来', '毕竟', '绝非', '｝＞', '召开', '这一来', '不特', '此时', '［②⑥］', '才能', 'ＺＸＦＩＴＬ', '［①Ｅ］', '反过来说', '如若', '呜呼', '乃至于', '具体来说', '允许', '［①⑤］', '你的', '除此以外', '说明', '趁便', '哪儿', '双方', '临', '今年', '相应', '照着', '他是', '倘使', '各个', '×', '既是', '嗡嗡', '借', '谨', '这点', '＝｛', '按说', '要不然', '要是', '通过', '故意', '动辄', '如上所述', '和', '据称', '所幸', '基本', '四', '不已', '举凡', '二话不说', '尽管如此', '这么', '呢', '莫若', '怎么', '此次', '＿', '常言说', '往往', '零', '不大', '个', '一', '纵使', '大体', '这种', '借此', '得了', '按期', '今後', '不足', '吱', '么', '别是', '只限', '７', '具体', '对待', '宁可', '不但', '当下', '？', '尽心竭力', '０：２', '岂非', '应当', '所谓', '是的', '［⑩］', '［①⑨］', '所以', '您', '看看', '达旦', '了', '到目前为止', '究竟', '偶尔', '就是说', '随', '诚然', '+', '分头', '来讲', '殆', '何妨', '顷刻之间', '反应', '呃', '顷刻间', '哪里', '［①ｏ］', '*', '嘿', '内', '＝', '反而', '所在', '开展', '何时', '嗬', '老是', '」', '明确', '毫不', '0', '［⑦］', '打开天窗说亮话', '後来', '不拘', '大概', '背靠背', '日臻', '归', '安全', '避免', '牢牢', '［⑤ｆ］', '向着', '亲口', '不得不', '＊', '有及', '大体上', '三番五次', '中间', '不择手段', '这会儿', '倒不如', '行动', '率尔', '的确', '除外', '不仅...而且', '③', '严重', '云云', '亲自', '照', '何处', '恰如', '连', '虽', '长此下去', '有的是', '即如', '每', '挨家挨户', '彼时', '豁然', '即', '你们', '而是', '全年', '［②Ｇ］', '根据', '倒不如说', '去', '啊哟', '随著', '５', '＜Δ', '与', '..', '如下', '［⑤ａ］', '及', '怎样', '不若', '广泛', '引起', '好', '逐步', '白', '但是', '综上所述', '倘', '下去', '经过', '顷', '尽然', '决不', '正在', '＜λ', '极力', '另一方面', '一.', '不常', '间或', '［②ｄ］', '话说', '一来', '这时', '刚才', '被', '哪天', '︿', '设使', '决定', ';', '敞开儿', '也罢', '咳', '不止一次', '大张旗鼓', '针对', '一致', '仅仅', '均', '光是', '从早到晚', '进而', '除此之外', '岂但', '１．', '哼唷', '已经', '甚至于', '然後', '以至', '到头', '完全', '对于', '′∈', '常言说得好', '⑥', '［②ｂ］', '因了', '有些', '一何', '个别', '与其说', '任', '它是', '…………………………………………………③', '加强', '理应', '莫非', '容易', '即便', '若是', '不会', 'ｂ］', '一些', '他们', '而后', '不只', '在下', '总的说来', '……', '哪些', '范围', '第二', '与否', '从事', '何必', '说说', '［②⑤］', '〈', '恍然', '~~~~', '_', '多少', '仍旧', '［①①］', '充分', '于', '［②⑩］', '若非', '方能', '不怎么', '-', '概', '这般', '自打', '够瞧的', '白白', '只', '不能', '叫做', '并且', '极端', '何况', '共总', '己', '一时', '据', '处在', '呕', '嗯', '敢情', '接下来', '顿时', '除非', '保险', '敢', '犹且', '［④ｅ］', '联系', '以後', '咦', '哩', '［③ｄ］', '扩大', '［②④', '啊哈', '抑或', '我的', '认真', '按', '６', '再', '如今', '那末', '凑巧', '甚么', '方便', '叮咚', '合理', '不怕', '［②ｃ］', '自后', '…', '哪年', '基本上', '诸位', '此中', '每天', '虽则', '猛然间', '趁热', '甚至', '则', '一定', '会', '［］', '他', '哼', '处处', '进来', '作为', '成年累月', '｛－', '从古到今', '又及', '某些', '看', '且说', '$', '进去', '以免', '随后', '－β', '边', '却', '具体说来', '开始', '立地', '七', '上下', '哎呀', '当头', '组成', '尔', '［①ｉ］', '此处', '比方', '乒', '当庭', '恰恰', '《', '6', '本着', '从不', '啥', '哪怕', '没有', '需要', '比及', '‘', '从今以后', '但愿', '如同', '然而', '而言', '［②Ｂ］', '各人', '［①②］', '不但...而且', '设若', '简言之', '＃', '本地', '暗中', '［③ｅ］', '这么点儿', '可好', '才', '──', '［④ｃ］', '先后', '加入', '取道', '看出', '当即', '可能', '这麽', '待', '互相', '隔日', '呜', '累次', '恰逢', '规定', '因为', '加之', '归根结底', '㈧', '部分', '由是', '今天', '应用', '扑通', '较之', '［⑤ｅ］', '除开', '因', '先不先', '·', '巩固', '极为', '弗', '嘎登', '充其极', '咋', '差不多', '之所以', '是否', '宁愿', '有的', '姑且', '确定', '可以', '即刻', '共', '否则', '附近', '另方面', '再则', '非常', '望', '［②ｈ］', '出', '往', '<', '故', '适用', '不起', '待到', '知道', '绝对', '忽地', '达到', '而', '(', '小', '赶早不赶晚', '必', '较比', '如上', '很少', '种', '起头', '经常', '除此而外', '出现', '，也', '［②］', '般的', '仅', '这次', '那里', '就是', '眨眼', '传说', '别处', '哈', '自己', '对应', '深入', '前面', '相当', '行为', '看上去', '省得', '陈年', '矣乎', '截然', '更进一步', '颇', '依据', '遇到', '曾经', '赶快', '遵循', '仍然', '不止', '联袂', '将才', '每个', '［①］', '采取', '#', '＆', '不过', '帮助', '顺着', '藉以', '［④ｂ］', '并肩', '介于', '传', '赖以', ']', '甫', '反之亦然', '反映', '为了', '大批', '从新', '正常', '大量', '挨着', '}', '－－', '庶几', '最近', '→', '单纯', '连袂', '切', 'φ．', '有力', '挨门挨户', '别说', '必然', '我是', '全身心', '［③ｇ］', '何苦', '啊', '除', '高兴', '保管', '快', '::', '结果', '那时', '［＊］', '很', '毫无', '⑦', '愤然', '按时', '极度', '策略地', '构成', '正巧', '不够', '总的来看', '把', '有着', '不曾', '这么样', '起', '首先', '何', '纵然', '乃至', '难说', '３', '呗', '表明', '乘隙', '便于', '普通', '有著', '咧', '以为', '绝不', '默然', '存心', '由此可见', '极其', '任何', '≈', '从宽', '不断', '乘机', '不一', '尔尔', '相等', '伙同', '—', '何以', '密切', '接著', '一番', '虽说', '来着', '谁知', '贼死', '半', '阿', '乌乎', '：', '［①Ｄ］', '从速', ')', '单单', '唉', '进行', '其余', '上升', '成为', '紧接着', '造成', '地', '不仅仅', '嗳', '兼之', '坚持', '集中', '〕〔', '无论', '主张', '亦', '不免', '如常', '们', '各种', '现在', '因此', '［⑧］', '或则', '尽快', '在', '［①ｄ］', '多多益善', '难怪', '砰', '末##末', '串行', '怎麽', '使', '沿着', '怎么样', '!', '.', '嘎嘎', '———', '『', '据实', '复杂', '即令', 'В', 'ＬＩ', '然则', '非得', '还有', '粗', '［①ｆ］', '即若', '最好', '着呢', '从', '认为', '匆匆', '冒', '此外', '哪个', '等等', '的话', '您们', '相似', '当场', '昂然', '为主', '之後', '不仅', 'sup', '有效', '仍', '广大', '各级', '数/', '满足', '呼哧', '意思', '它', '不然的话', '在于', '先後', '自身', '起来', '［⑤］', '着', '背地里', '——', '大约', '继而', '以故', '常言道', '>', '绝顶', '不满', '对比', '但', '分期分批', '从中', '２．３％', '遵照', '起见', '让', '就是了', '莫不然', '迅速', '然', '下来', '尽', '连日', '宁肯', '同时', '千万', '】', '断然', '这个', '起先', '积极', '能够', '最', '什麽', './', '［①⑥］', '\"', '见', '据此', '怎奈', '他的', '借以', 'Ψ', '没', '定', '乘虚', '`', '自从', '赶', '上来', '及其', '⑧', '八成', '不对', '并非', '至若', '尽心尽力', '恰恰相反', '其中', '而论', '设或', '不消', '将要', '主要', '亲身', '窃', '有', '难得', '路经', '［②②］', '本人', '惟其', '之类', '虽然', '故此', '⑩', '固', '乃', '前进', '练习', '每年', '［⑨］', '哦', '顶多', '三', '［⑥］', '开外', '或多或少', '［', '这些', '不如', '宁', '哟', '并不', '总是', '如是', '②ｃ', '相对而言', '［②ａ］', '专门', '来自', '强调', '已矣', '以期', '不', '拦腰', '每当', '向使', '倘然', '累年', '隔夜', '...', '满', '略微', '孰料', '前此', '喀', '已', '不必', '几乎', '正如', '进入', '看样子', '普遍', '限制', '届时', '以后', '好象', '老', '腾', '趁', '你是', '纯', '从未', '要不是', '［⑤ｂ］', '完成', '周围', '以致', '都', '反过来', '大事', '后面', '那么', '更为', '相信', '一则通过', '8', '凝神', '于是乎', '初', '获得', '反手', '③］', '庶乎', '千万千万', '方', '呀', '较为', '一个', '也是', '假使', '多次', '相对', '除去', '～±', '促进', '不时', '必要', '比', '［①Ａ］', '4', '当口儿', '将', '孰知', '真正', '纯粹', '比照', '近来', '倍感', '互', '之一', 'Ⅲ', '元／吨', '特别是', '给', '对', '要么', '谁人', '常常', '大大', \"'\", '拿', '三天两头', '啐', '不可抗拒', '何尝', '从小', '极', '正值', '一面', '最后', '她', '社会主义', '具有', '必将', '０', '有所', '川流不息', '争取', '後面', '其次', '上去', '尤其', '://', '急匆匆', '假如', '岂', '，', '其他', '。', '即将', '要求', '一起', '分别', '另悉', '形成', '后者', '自各儿', '八', '战斗', '焉', '过于', '挨门逐户', '》', '［④ｄ］', '只当', '巴巴', '适应', '有关', '的', '％', '云尔', '［②⑦］', '当着', 'ｆ］', '截至', '人家', '每时每刻', '挨个', '＋＋', '大多数', '哉', '根本', '古来', '注意', '咱们', '万一', '只消', '／', 'γ', '总而言之', '与其', '还是', '⑤', '为何', '以至于', '啊呀', '按理', '∪φ∈', '我', '■', '当然', '甚而', '不变', '＝（', '＝－', '各式', '当地', '得到', '反倒', '转动', '目前', '得天独厚', '距', '例如', '陡然', '你', '前后', '看来', '不得已', '多么', '［①Ｃ］', '哎哟', '又', '下', '略为', '所有', '防止', '偶而', '可见', '一则', '慢说', '依靠', '⑨', '咚', '可是', '！', '［③①］', '亲眼', '至于', '’‘', '嘛', '（', '》），', '不了', '各自', '谁料', '既往', '或是', '其实', '不同', '老大', '叫', '变成', '冲', '局外', '独', '.数', '＜＜', '最大', '＝［', '现代', '略', '怕', '别的', '伟大', '遭到', '哎', '几番', '您是', '竟而', '某某', '个人', '无宁', '加上', '大不了', '长期以来', '竟然', '.日', '如此', '不妨', '丰富', '但凡', '打', '方面', '不单', '儿', '几经', '无法', '［③ｂ］', '则甚', '｛', '暗自', '莫', '矣', '从头', '>>', '）', '突出', '产生', '今后', '④', '任凭', '也就是说', '［⑤］］', '缕缕', '为', '有点', '朝', '简而言之', '适当', '４', '日益', '′｜', '准备', '其二', '吧哒', '就要', '自个儿', '况且', '顷刻', '长线', '人民', '再说', '再有', 'φ', '当儿', '后', 'ｎｇ昉', '一方面', '↑', '^', '呐', '彻夜', '再其次', '＜φ', '好在', '//', '到头来', '当时', '并不是', '放量', '以外', '从此', '叮当', '顺', '并无', '为止', '就', '此间', '［①ａ］', '不然', '以下', '多亏', '不知不觉', '［①Ｂ］', '日见', '9', '|', '呵', '中小', '存在', '重要', '不光', '%', '沿', '不由得', ':', '本', '认识', '若', '尽管', '刚好', '风雨无阻', '严格', '倒是', '那', '〉', '什么', '论说', '８', '如期', '换言之', '哪样', '依照', '９', '总的来说', '恐怕', '先生', '良好', '五', '［②ｅ］', '不独', '动不动', '至今', '吓', '猛然', '经', '第', '啦', '总结', '即或', '同一', '［③Ｆ］', '到', '那儿', '凡', '为什麽', '由此', '吧', '常', '不尽然', 'Δ', '或', '时候', '随着', '如何', '他人', '［③］', '余外', '...................', '别管', '别', '跟', '即是说', '何止', '取得', '自', '移动', '曾', '上述', '运用', '奋勇', '除此', '不管', '诸', '倘或', '恰好', '替', '［③ｃ］', '企图', '继续', '不少', '沙沙', '近年来', '奇', '每逢', '人', '只要', '三番两次', '一天', '下面', '漫说', '是以', '来看', '兮', '任务', '嘎', '人们', '不料', '彼', '格外', '只是', '举行', '来不及', '如其', '日渐', '巴', '自家', '无', '如前所述', '比如说', '也', '弹指之间', '活', '毋宁', '怪不得', '反倒是', '５：０', '［①ｈ］', '多年来', '［②①］', '嘻', '5', '到处', '全力', '其', '快要', '几度', '从古至今', '整个', '觉得', '趁着', '从严', '齐', '具体地说', '随时', '矣哉', '很多', '［①ｅ］', '基于', '问题', '不外', '）÷（１－', '等', '接着', '假若', '论', '考虑', '一旦', '多年前', '▲', '这里', '不比', '并没有', '者', '极了', '继后', '除却', '一般', '原来', '而况', '～＋', '大抵', '重大', '刚', '决非', '由于', '坚决', '挨次', '暗地里', '立刻', '［②', '那个', '里面', '［－', '喂', '能', '最高', '～', '凭', '当真', '岂止', '哗啦'}\n"
     ]
    }
   ],
   "source": [
    "print(nlp.Defaults.stop_words)"
   ]
  },
  {
   "cell_type": "code",
   "execution_count": 11,
   "metadata": {},
   "outputs": [],
   "source": [
    "text3 = \"跨年玩很大\"\n",
    "doc3 = nlp(text3)"
   ]
  },
  {
   "cell_type": "code",
   "execution_count": 12,
   "metadata": {},
   "outputs": [
    {
     "data": {
      "text/html": [
       "<span class=\"tex2jax_ignore\"><svg xmlns=\"http://www.w3.org/2000/svg\" xmlns:xlink=\"http://www.w3.org/1999/xlink\" xml:lang=\"zh\" id=\"33a54f2f8c24419db3b7e386a0f0c5de-0\" class=\"displacy\" width=\"750\" height=\"312.0\" direction=\"ltr\" style=\"max-width: none; height: 312.0px; color: #000000; background: #ffffff; font-family: Arial; direction: ltr\">\n",
       "<text class=\"displacy-token\" fill=\"currentColor\" text-anchor=\"middle\" y=\"222.0\">\n",
       "    <tspan class=\"displacy-word\" fill=\"currentColor\" x=\"50\">跨年</tspan>\n",
       "    <tspan class=\"displacy-tag\" dy=\"2em\" fill=\"currentColor\" x=\"50\">VERB</tspan>\n",
       "</text>\n",
       "\n",
       "<text class=\"displacy-token\" fill=\"currentColor\" text-anchor=\"middle\" y=\"222.0\">\n",
       "    <tspan class=\"displacy-word\" fill=\"currentColor\" x=\"225\">玩</tspan>\n",
       "    <tspan class=\"displacy-tag\" dy=\"2em\" fill=\"currentColor\" x=\"225\">VERB</tspan>\n",
       "</text>\n",
       "\n",
       "<text class=\"displacy-token\" fill=\"currentColor\" text-anchor=\"middle\" y=\"222.0\">\n",
       "    <tspan class=\"displacy-word\" fill=\"currentColor\" x=\"400\">很</tspan>\n",
       "    <tspan class=\"displacy-tag\" dy=\"2em\" fill=\"currentColor\" x=\"400\">ADV</tspan>\n",
       "</text>\n",
       "\n",
       "<text class=\"displacy-token\" fill=\"currentColor\" text-anchor=\"middle\" y=\"222.0\">\n",
       "    <tspan class=\"displacy-word\" fill=\"currentColor\" x=\"575\">大</tspan>\n",
       "    <tspan class=\"displacy-tag\" dy=\"2em\" fill=\"currentColor\" x=\"575\">VERB</tspan>\n",
       "</text>\n",
       "\n",
       "<g class=\"displacy-arrow\">\n",
       "    <path class=\"displacy-arc\" id=\"arrow-33a54f2f8c24419db3b7e386a0f0c5de-0-0\" stroke-width=\"2px\" d=\"M70,177.0 C70,2.0 575.0,2.0 575.0,177.0\" fill=\"none\" stroke=\"currentColor\"/>\n",
       "    <text dy=\"1.25em\" style=\"font-size: 0.8em; letter-spacing: 1px\">\n",
       "        <textPath xlink:href=\"#arrow-33a54f2f8c24419db3b7e386a0f0c5de-0-0\" class=\"displacy-label\" startOffset=\"50%\" side=\"left\" fill=\"currentColor\" text-anchor=\"middle\">dep</textPath>\n",
       "    </text>\n",
       "    <path class=\"displacy-arrowhead\" d=\"M70,179.0 L62,167.0 78,167.0\" fill=\"currentColor\"/>\n",
       "</g>\n",
       "\n",
       "<g class=\"displacy-arrow\">\n",
       "    <path class=\"displacy-arc\" id=\"arrow-33a54f2f8c24419db3b7e386a0f0c5de-0-1\" stroke-width=\"2px\" d=\"M70,177.0 C70,89.5 220.0,89.5 220.0,177.0\" fill=\"none\" stroke=\"currentColor\"/>\n",
       "    <text dy=\"1.25em\" style=\"font-size: 0.8em; letter-spacing: 1px\">\n",
       "        <textPath xlink:href=\"#arrow-33a54f2f8c24419db3b7e386a0f0c5de-0-1\" class=\"displacy-label\" startOffset=\"50%\" side=\"left\" fill=\"currentColor\" text-anchor=\"middle\">advmod:rcomp</textPath>\n",
       "    </text>\n",
       "    <path class=\"displacy-arrowhead\" d=\"M220.0,179.0 L228.0,167.0 212.0,167.0\" fill=\"currentColor\"/>\n",
       "</g>\n",
       "\n",
       "<g class=\"displacy-arrow\">\n",
       "    <path class=\"displacy-arc\" id=\"arrow-33a54f2f8c24419db3b7e386a0f0c5de-0-2\" stroke-width=\"2px\" d=\"M420,177.0 C420,89.5 570.0,89.5 570.0,177.0\" fill=\"none\" stroke=\"currentColor\"/>\n",
       "    <text dy=\"1.25em\" style=\"font-size: 0.8em; letter-spacing: 1px\">\n",
       "        <textPath xlink:href=\"#arrow-33a54f2f8c24419db3b7e386a0f0c5de-0-2\" class=\"displacy-label\" startOffset=\"50%\" side=\"left\" fill=\"currentColor\" text-anchor=\"middle\">advmod</textPath>\n",
       "    </text>\n",
       "    <path class=\"displacy-arrowhead\" d=\"M420,179.0 L412,167.0 428,167.0\" fill=\"currentColor\"/>\n",
       "</g>\n",
       "</svg></span>"
      ],
      "text/plain": [
       "<IPython.core.display.HTML object>"
      ]
     },
     "metadata": {},
     "output_type": "display_data"
    }
   ],
   "source": [
    "displacy.render(doc3)"
   ]
  },
  {
   "cell_type": "code",
   "execution_count": null,
   "metadata": {},
   "outputs": [],
   "source": []
  }
 ],
 "metadata": {
  "kernelspec": {
   "display_name": "Python 3",
   "language": "python",
   "name": "python3"
  },
  "language_info": {
   "codemirror_mode": {
    "name": "ipython",
    "version": 3
   },
   "file_extension": ".py",
   "mimetype": "text/x-python",
   "name": "python",
   "nbconvert_exporter": "python",
   "pygments_lexer": "ipython3",
   "version": "3.8.6"
  }
 },
 "nbformat": 4,
 "nbformat_minor": 4
}
